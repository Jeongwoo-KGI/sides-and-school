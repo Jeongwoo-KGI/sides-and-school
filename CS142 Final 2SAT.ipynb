{
 "cells": [
  {
   "cell_type": "code",
   "execution_count": 14,
   "id": "af4c8980",
   "metadata": {},
   "outputs": [],
   "source": [
    "#input structure: number of variables, number of clause, each structure of the clause. \n",
    "##Each caluse are represented as integer. So, x1 will be represented as 1. \n",
    "##And the last variable (nth variable) will be represented as int(n)\n",
    "\n",
    "#Output structure. First line = if it is satisfiable, print 1. Else, 0. \n",
    "##Second line = the boolean values of each variable starting from the first variable till the last\n",
    "##Second line won't exist for those that are not satisfiable. \n",
    "\n",
    "# Python program to find strongly connected components in a given\n",
    "# directed graph using Tarjan's algorithm (single DFS)\n",
    "#Complexity : O(V+E)\n",
    "  \n",
    "from collections import defaultdict\n",
    "  \n",
    "#This class represents an directed graph\n",
    "# using adjacency list representation\n",
    "class Graph:\n",
    "  \n",
    "    def __init__(self,vertices):\n",
    "        #No. of vertices\n",
    "        self.V= vertices\n",
    "         \n",
    "        # default dictionary to store graph\n",
    "        self.graph = defaultdict(list)\n",
    "        self.whole = []\n",
    "        self.Time = 0\n",
    "  \n",
    "    # function to add an edge to graph\n",
    "    def addEdge(self,u,v):\n",
    "        self.graph[u].append(v)\n",
    "         \n",
    "  \n",
    "    '''A recursive function that find finds and prints strongly connected\n",
    "    components using DFS traversal\n",
    "    u --> The vertex to be visited next\n",
    "    disc[] --> Stores discovery times of visited vertices\n",
    "    low[] -- >> earliest visited vertex (the vertex with minimum\n",
    "                discovery time) that can be reached from subtree\n",
    "                rooted with current vertex\n",
    "     st -- >> To store all the connected ancestors (could be part\n",
    "           of SCC)\n",
    "     stackMember[] --> bit/index array for faster check whether\n",
    "                  a node is in stack\n",
    "    '''\n",
    "    def SCCUtil(self,u, low, disc, stackMember, st):\n",
    " \n",
    "        # Initialize discovery time and low value\n",
    "        disc[u] = self.Time\n",
    "        low[u] = self.Time\n",
    "        self.Time += 1\n",
    "        stackMember[u] = True\n",
    "        st.append(u)\n",
    " \n",
    "        # Go through all vertices adjacent to this\n",
    "        for v in self.graph[u]:\n",
    "             \n",
    "            # If v is not visited yet, then recur for it\n",
    "            if disc[v] == -1 :\n",
    "             \n",
    "                self.SCCUtil(v, low, disc, stackMember, st)\n",
    " \n",
    "                # Check if the subtree rooted with v has a connection to\n",
    "                # one of the ancestors of u\n",
    "                # Case 1 (per above discussion on Disc and Low value)\n",
    "                low[u] = min(low[u], low[v])\n",
    "                         \n",
    "            elif stackMember[v] == True:\n",
    " \n",
    "                '''Update low value of 'u' only if 'v' is still in stack\n",
    "                (i.e. it's a back edge, not cross edge).\n",
    "                Case 2 (per above discussion on Disc and Low value) '''\n",
    "                low[u] = min(low[u], disc[v])\n",
    " \n",
    "        # head node found, pop the stack and print an SCC\n",
    "        w = -1 #To store stack extracted vertices\n",
    "        \n",
    "        if low[u] == disc[u]:\n",
    "            scc_ = []\n",
    "            while w != u:\n",
    "                w = st.pop()\n",
    "                #print(w)\n",
    "                stackMember[w] = False\n",
    "                scc_.append(w)\n",
    "            \n",
    "            print(scc_)\n",
    "            self.whole.append(scc_)\n",
    "            \n",
    "     \n",
    " \n",
    "    #The function to do DFS traversal.\n",
    "    # It uses recursive SCCUtil()\n",
    "    def SCC(self):\n",
    "  \n",
    "        # Mark all the vertices as not visited\n",
    "        # and Initialize parent and visited,\n",
    "        # and ap(articulation point) arrays\n",
    "        disc = [-1] * (self.V)\n",
    "        low = [-1] * (self.V)\n",
    "        stackMember = [False] * (self.V)\n",
    "        st =[]\n",
    "         \n",
    " \n",
    "        # Call the recursive helper function\n",
    "        # to find articulation points\n",
    "        # in DFS tree rooted with vertex 'i'\n",
    "        for i in range(self.V):\n",
    "            if disc[i] == -1:\n",
    "                self.SCCUtil(i, low, disc, stackMember, st)\n",
    "        output = []\n",
    "        for i in self.whole:\n",
    "            if len(i) == 1:\n",
    "                pass\n",
    "            else: \n",
    "                output.append(i)\n",
    "        print(\"SCCs\")\n",
    "        return output\n",
    "\n",
    "def SCC_check(i, n, sets):\n",
    "    g1 = Graph(n)\n",
    "    record = []\n",
    "    non_scc_edge = sets\n",
    "    for i in sets:\n",
    "        g1.addEdge(i[0],i[1])\n",
    "        record.append(i[0])\n",
    "        record.append(i[1])\n",
    "    if max(record)!=i:\n",
    "        return \"Error input\"\n",
    "    for i in g1.SCC():\n",
    "        if i in \n",
    "    else:\n",
    "        return g1.SCC(), non_scc_edge\n",
    "\n",
    "def SAT2(i,n,sets):\n",
    "    SCC = SCC_check(i,n,sets)[0]\n",
    "    truth = 0\n",
    "    if len(SCC) == 1:\n",
    "        return 1, SCC\n",
    "    #make the criteria implemented here one by one\n",
    "    \n",
    "    for i in len(SCC):\n",
    "        for k in SCC[i]:\n",
    "            negate = -k\n",
    "            if negate in i:\n",
    "                return 0\n",
    "            sublist = SCC[:i] + SCC[i+1:]\n",
    "                for j in sublist:\n",
    "                    if k in j:\n",
    "            \n",
    "                        \n",
    "            if k in \n",
    "    \n",
    "    for i in\n",
    "            \n",
    "    \n",
    "    \n"
   ]
  },
  {
   "cell_type": "code",
   "execution_count": 15,
   "id": "96ed72e4",
   "metadata": {},
   "outputs": [
    {
     "name": "stdout",
     "output_type": "stream",
     "text": [
      "SSC in first graph \n",
      "[4]\n",
      "[3]\n",
      "[1, 2, 0]\n"
     ]
    },
    {
     "data": {
      "text/plain": [
       "[[1, 2, 0]]"
      ]
     },
     "execution_count": 15,
     "metadata": {},
     "output_type": "execute_result"
    }
   ],
   "source": [
    "g1 = Graph(5)\n",
    "g1.addEdge(1, 0)\n",
    "g1.addEdge(0, 2)\n",
    "g1.addEdge(2, 1)\n",
    "g1.addEdge(0, 3)\n",
    "g1.addEdge(3, 4)\n",
    "print (\"SSC in first graph \")\n",
    "g1.SCC()\n"
   ]
  },
  {
   "cell_type": "code",
   "execution_count": 11,
   "id": "ac027a32",
   "metadata": {},
   "outputs": [
    {
     "name": "stdout",
     "output_type": "stream",
     "text": [
      "SSC in first graph \n",
      "[-3]\n",
      "\n",
      "[-1, -2, 0]\n",
      "\n",
      "[1]\n",
      "\n"
     ]
    }
   ],
   "source": [
    "g1 = Graph(5)\n",
    "g1.addEdge(-1, 0)\n",
    "g1.addEdge(0, -2)\n",
    "g1.addEdge(-2, -1)\n",
    "g1.addEdge(0, -3)\n",
    "g1.addEdge(1, -4)\n",
    "print (\"SSC in first graph \")\n",
    "g1.SCC()"
   ]
  },
  {
   "cell_type": "code",
   "execution_count": 18,
   "id": "09466f0b",
   "metadata": {},
   "outputs": [
    {
     "data": {
      "text/plain": [
       "[1, 2]"
      ]
     },
     "execution_count": 18,
     "metadata": {},
     "output_type": "execute_result"
    }
   ],
   "source": [
    "i = [1,2,3]\n",
    "i[:2]+i[2+1:]"
   ]
  },
  {
   "cell_type": "code",
   "execution_count": null,
   "id": "3a5852c9",
   "metadata": {},
   "outputs": [],
   "source": []
  }
 ],
 "metadata": {
  "kernelspec": {
   "display_name": "Python 3 (ipykernel)",
   "language": "python",
   "name": "python3"
  },
  "language_info": {
   "codemirror_mode": {
    "name": "ipython",
    "version": 3
   },
   "file_extension": ".py",
   "mimetype": "text/x-python",
   "name": "python",
   "nbconvert_exporter": "python",
   "pygments_lexer": "ipython3",
   "version": "3.8.12"
  }
 },
 "nbformat": 4,
 "nbformat_minor": 5
}
