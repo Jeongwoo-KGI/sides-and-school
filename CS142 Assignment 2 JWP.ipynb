{
 "cells": [
  {
   "cell_type": "code",
   "execution_count": 2,
   "id": "ad4fd4a2",
   "metadata": {},
   "outputs": [],
   "source": [
    "from automata.fa.nfa import NFA"
   ]
  },
  {
   "cell_type": "code",
   "execution_count": 20,
   "id": "bf040fca",
   "metadata": {},
   "outputs": [
    {
     "name": "stdout",
     "output_type": "stream",
     "text": [
      "['a', 'b', 'c', 'd', 'e', 'f', 'g', 'h', 'i', 'j', 'k', 'l', 'm', 'n', 'o', 'p', 'q', 'r', 's', 't', 'u', 'v', 'w', 'x', 'y', 'z', 'A', 'B', 'C', 'D', 'E', 'F', 'G', 'H', 'I', 'J', 'K', 'L', 'M', 'N', 'O', 'P', 'Q', 'R', 'S', 'T', 'U', 'V', 'W', 'X', 'Y', 'Z', '>', '<', '=', '1', '2', '3', '4', '5', '6', '7', '8', '9', '0', ':', ';', '*', '+', '-', '.']\n",
      "{'q2', 'q16', 'q0', 'q14', 'q5', 'q7', 'q17', 'q19', 'q11', 'q12', 'q8', 'q13', 'q3', 'q10', 'q9', 'q6', 'q15', 'q20', 'q4', 'q18', 'q1'}\n",
      "<class 'set'>\n",
      "{'1': {'q1'}, '2': {'q1'}, '3': {'q1'}, '4': {'q1'}, '5': {'q1'}, '6': {'q1'}, '7': {'q1'}, '8': {'q1'}, '9': {'q1'}, '0': {'q1'}}\n"
     ]
    }
   ],
   "source": [
    "#Now Let's write down all the 5 tuples starting from alphabets\n",
    "variable = ['a', 'b', 'c', 'd', 'e', 'f', 'g', 'h', 'i', 'j', 'k', 'l', 'm', 'n', 'o', \n",
    "           'p', 'q', 'r', 's', 't', 'u', 'v', 'w', 'x', 'y', 'z', 'A', 'B', 'C', 'D', \n",
    "           'E', 'F', 'G', 'H', 'I', 'J', 'K', 'L', 'M', 'N', 'O', 'P', 'Q', 'R', 'S', \n",
    "           'T', 'U', 'V', 'W', 'X', 'Y', 'Z']\n",
    "condition = ['>','<','=']\n",
    "D = ['1','2','3','4','5','6','7','8','9','0']\n",
    "addons = ['+','-','.']\n",
    "#make alphabets for if, then, endif to make things simple\n",
    "#do not use the alphabets here for the input that is not supposed to be 'if' 'then' 'endif'\n",
    "translate = [\":\", \";\", \"*\"] # : means if, ; means then, * means endif \n",
    "alphabet = variable + condition + D + translate + addons\n",
    "\n",
    "#give it a check if the alphabet is well defined\n",
    "print(alphabet)\n",
    "\n",
    "#states\n",
    "States = {'q' + str(i) for i in range(21)}\n",
    "\n",
    "#print States\n",
    "print(States)\n",
    "print(type(States))\n",
    "\n",
    "#the transition of D made simple for code\n",
    "def arrow (sets, go_to):\n",
    "    arrows = {}\n",
    "    for i in sets:\n",
    "        arrows[i] = {go_to}\n",
    "    return arrows\n",
    "#checking if the function works\n",
    "print(arrow(D,'q1'))\n"
   ]
  },
  {
   "cell_type": "code",
   "execution_count": 22,
   "id": "ed4c6dc7",
   "metadata": {},
   "outputs": [],
   "source": [
    "#Now build NFA M_B (I will call name this variable as nfa_MB)\n",
    "nfa_MB = NFA(\n",
    "    states = States, \n",
    "    input_symbols = alphabet, \n",
    "    transitions = {\n",
    "        'q0':{':':{'q1'}},\n",
    "        'q1':arrow(variable,'q2'),\n",
    "        'q2':{'=':{'q4'},'>':{'q3'},'<':{'q3'}},\n",
    "        'q3':{'=':{'q4'},'':{'q4'}},\n",
    "        'q4':{'+':{'q6'},'-':['q6'],'':{'q6'},'.':{'q5'}},\n",
    "        'q5':arrow(D,'q7'),\n",
    "        'q6':arrow(D,'q8'),\n",
    "        'q7':{**arrow(D,'q7'),'':{'q9'}},\n",
    "        'q8':{**arrow(D, 'q8'), '.':{'q7'},'':{'q9'}},\n",
    "        'q9':{';':{'q10'}},\n",
    "        'q10':{'':{'q11'}},\n",
    "        'q11':arrow(variable, 'q12'),\n",
    "        'q12':{'=':{'q13'}},\n",
    "        'q13':{'.':{'q14'},'+':{'q15'},'-':{'q15'},'':{'q15'}},\n",
    "        'q14':arrow(D,'q16'),\n",
    "        'q15':arrow(D,'q17'),\n",
    "        'q16':{**arrow(D,'q16'),'':{'q18'}},\n",
    "        'q17':{**arrow(D,'q17'),'':{'q18'},'.':{'q16'}},\n",
    "        'q18':{'*':{'q19'}},\n",
    "        'q19':{'':{'q20'}},\n",
    "        'q20':{}\n",
    "    },\n",
    "    initial_state = 'q0',\n",
    "    final_states = {'q20'}\n",
    ")\n"
   ]
  },
  {
   "cell_type": "code",
   "execution_count": 33,
   "id": "aa849f9d",
   "metadata": {},
   "outputs": [
    {
     "data": {
      "text/plain": [
       "{'q19', 'q20'}"
      ]
     },
     "execution_count": 33,
     "metadata": {},
     "output_type": "execute_result"
    }
   ],
   "source": [
    "#Examples For Test\n",
    "#Caution: we need to manually translate the input into a form\n",
    "#What I mean is that 'if' = ':', 'then' = ';', 'endif' = '*'\n",
    "ex1 = ':A>0;B=10.5*' #if A>0 then B = 10.5 endif\n",
    "ex2 = ':A>0;B=.105e**2' #if A>0 then B = .105e^2\n",
    "ex3 = 'A>=<0' #A>=<0\n",
    "\n",
    "assert(nfa_MB.accepts_input(ex1) == True)\n",
    "assert(nfa_MB.accepts_input(ex2) == False)\n",
    "assert(nfa_MB.accepts_input(ex3) == False)\n",
    "#to know the steps use read_input_stepwise\n",
    "#reference: https://pypi.org/project/automata-lib/#class-nfafa "
   ]
  },
  {
   "cell_type": "code",
   "execution_count": null,
   "id": "5c73fe1f",
   "metadata": {},
   "outputs": [],
   "source": []
  }
 ],
 "metadata": {
  "kernelspec": {
   "display_name": "Python 3 (ipykernel)",
   "language": "python",
   "name": "python3"
  },
  "language_info": {
   "codemirror_mode": {
    "name": "ipython",
    "version": 3
   },
   "file_extension": ".py",
   "mimetype": "text/x-python",
   "name": "python",
   "nbconvert_exporter": "python",
   "pygments_lexer": "ipython3",
   "version": "3.8.12"
  }
 },
 "nbformat": 4,
 "nbformat_minor": 5
}
