{
 "cells": [
  {
   "cell_type": "markdown",
   "id": "2bad020e",
   "metadata": {},
   "source": [
    "## Assignment 1\n",
    "\n",
    "### 1. Moore's Law\n",
    "\n",
    "URL for data[http://preshing.com/files/specdata20120207.zip]\n",
    "\n",
    "check here[https://preshing.com/20120208/a-look-back-at-single-threaded-cpu-performance/] for more information and analysis\n",
    "\n",
    "1. Extract the date and base speed for a benchmark of your choice. (the dates contained as part of the testID don't tell us about when the hardware was actually designed, so the test could have been run at a much later date using older hardware) -> the date indicating when the hardware was first available can be found from the summaries file to really test Moore's Law. \n",
    "2. Plot the data in a semi-log plot\n",
    "3. Now train a linear model to fit your plot. \n",
    "4. How well is Moore's law holding up?"
   ]
  },
  {
   "cell_type": "code",
   "execution_count": 31,
   "id": "33a0000d",
   "metadata": {},
   "outputs": [
    {
     "name": "stderr",
     "output_type": "stream",
     "text": [
      "C:\\Users\\green\\anaconda3\\lib\\site-packages\\IPython\\core\\interactiveshell.py:3444: DtypeWarning: Columns (3) have mixed types.Specify dtype option on import or set low_memory=False.\n",
      "  exec(code_obj, self.user_global_ns, self.user_ns)\n"
     ]
    },
    {
     "name": "stdout",
     "output_type": "stream",
     "text": [
      "                 testID tester                             machine  \\\n",
      "0  cpu95-19990104-03254   Dell  Precision WorkStation 610 (450MHz)   \n",
      "1  cpu95-19990104-03254   Dell  Precision WorkStation 610 (450MHz)   \n",
      "2  cpu95-19990104-03254   Dell  Precision WorkStation 610 (450MHz)   \n",
      "3  cpu95-19990104-03254   Dell  Precision WorkStation 610 (450MHz)   \n",
      "4  cpu95-19990104-03254   Dell  Precision WorkStation 610 (450MHz)   \n",
      "\n",
      "                       cpu    mhz   hwAvail                            os  \\\n",
      "0  450 MHz Pentium II XEON  450.0  Jan-1999  Microsoft Windows NT 4.0 sp3   \n",
      "1  450 MHz Pentium II XEON  450.0  Jan-1999  Microsoft Windows NT 4.0 sp3   \n",
      "2  450 MHz Pentium II XEON  450.0  Jan-1999  Microsoft Windows NT 4.0 sp3   \n",
      "3  450 MHz Pentium II XEON  450.0  Jan-1999  Microsoft Windows NT 4.0 sp3   \n",
      "4  450 MHz Pentium II XEON  450.0  Jan-1999  Microsoft Windows NT 4.0 sp3   \n",
      "\n",
      "                     compiler autoParallel benchType  base_x peak_x  \\\n",
      "0  Intel Fortran Compiler 2.4           No     CFP95    13.9   15.2   \n",
      "1  Intel Fortran Compiler 2.4           No     CFP95    13.9   15.2   \n",
      "2  Intel Fortran Compiler 2.4           No     CFP95    13.9   15.2   \n",
      "3  Intel Fortran Compiler 2.4           No     CFP95    13.9   15.2   \n",
      "4  Intel Fortran Compiler 2.4           No     CFP95    13.9   15.2   \n",
      "\n",
      "     benchName  base_y peak_y  \n",
      "0  101.tomcatv   19.40   27.1  \n",
      "1     102.swim   27.20   34.8  \n",
      "2   103.su2cor   10.10   9.98  \n",
      "3  104.hydro2d    8.58   8.61  \n",
      "4    107.mgrid    8.94   9.44  \n",
      "           date   base  ordinal  log_base\n",
      "0    1999-01-01  19.40   729755  1.287802\n",
      "26   1998-11-01  19.50   729694  1.290035\n",
      "44   1998-12-01  35.30   729724  1.547775\n",
      "54   1998-12-01  43.00   729724  1.633468\n",
      "64   1998-12-01  63.90   729724  1.805501\n",
      "...         ...    ...      ...       ...\n",
      "9900 1995-06-01   3.40   728445  0.531479\n",
      "9910 1995-11-01   7.34   728598  0.865696\n",
      "9920 1996-03-01   8.46   728719  0.927370\n",
      "9930 1996-03-01   9.45   728719  0.975432\n",
      "9940 1993-08-01   4.63   727776  0.665581\n",
      "\n",
      "[575 rows x 4 columns]\n"
     ]
    }
   ],
   "source": [
    "#set up the environment\n",
    "import pandas as pd\n",
    "import matplotlib.pyplot as plt\n",
    "import numpy as np\n",
    "import datetime\n",
    "from sklearn import datasets, linear_model\n",
    "from sklearn.metrics import mean_squared_error, r2_score\n",
    "import math\n",
    "from datetime import datetime\n",
    "\n",
    "#import the data\n",
    "data = pd.read_csv(r'C:\\Users\\green\\Desktop\\benchmarks.csv')\n",
    "summary = pd.read_csv(r'C:\\Users\\green\\Desktop\\summaries.csv')\n",
    "data = summary.merge(data,how='inner',on='testID')\n",
    "print(data.head())\n",
    "data = data[data['benchName']=='101.tomcatv']\n",
    "#instead of using testID as the date as I've used to in the PCW\n",
    "#use hwAvail (hardware available date) to accurately predict the Moore's Law\n",
    "data['date']= pd.to_datetime(data.hwAvail, format = \"%b-%Y\") #it used to be data.testID.str.split('-').str[1]\n",
    "data.dropna(axis=0, how='all', subset=['date'], inplace=True)\n",
    "\n",
    "# choose a bench mark to work on: '101.tomcatv'\n",
    "data.reset_index(drop=True)\n",
    "#print(data.head)\n",
    "data = data[['date', 'base_y']]\n",
    "data = data.rename(columns = {\"date\":\"date\",\"base_y\":\"base\"})\n",
    "\n",
    "# Datetime to float, so we can plot the graph\n",
    "\n",
    "data['ordinal'] = data[\"date\"].map(datetime.toordinal)\n",
    "\n",
    "#make base value in a log so that when it is plotted, it can be a semi-log plot\n",
    "data['log_base'] = np.log10(data.base.astype(float))\n",
    "print(data)\n",
    "#data with 9354 data points for the label '101.tomcatv'"
   ]
  },
  {
   "cell_type": "code",
   "execution_count": 32,
   "id": "d41392a7",
   "metadata": {
    "scrolled": true
   },
   "outputs": [
    {
     "data": {
      "image/png": "[encoded data removed]",
      "text/plain": [
       "<Figure size 432x288 with 1 Axes>"
      ]
     },
     "metadata": {
      "needs_background": "light"
     },
     "output_type": "display_data"
    }
   ],
   "source": [
    "#plot the data in a semi-log plot (Part 2 of the reading)\n",
    "plt.plot(data['date'], data['log_base'], 'o', color = 'orange')\n",
    "plt.xticks(rotation = 60)\n",
    "plt.title('Semilog graph of CPU base performance(101.tomcatv) over time')\n",
    "plt.ylabel('log_10(Base performance)')\n",
    "plt.show()"
   ]
  },
  {
   "cell_type": "code",
   "execution_count": 33,
   "id": "1f4637e7",
   "metadata": {},
   "outputs": [
    {
     "name": "stdout",
     "output_type": "stream",
     "text": [
      "coeffs:  [0.00048081] ,  -349.3479680241129\n",
      "MSE :  531738467988.8542\n",
      "median absolute error :  0.24452913980294078\n",
      "r2:  0.4781600908706717\n",
      "mean absolute error:  0.28536085110649556\n"
     ]
    }
   ],
   "source": [
    "#train the model\n",
    "import sklearn.metrics as met\n",
    "from sklearn import datasets, linear_model\n",
    "from sklearn.model_selection import train_test_split\n",
    "\n",
    "#data is big and conventionally (according to https://www.researchgate.net/post/Is-there-an-ideal-ratio-between-a-training-set-and-validation-set-Which-trade-off-would-you-suggest)\n",
    "#it is known to split the data into 20:80 ratio for test and train. \n",
    "#split the data\n",
    "X = data.ordinal.array.reshape(-1,1)\n",
    "y = data.log_base\n",
    "#setting random seed as 42 for 'questions of life'\n",
    "X_train,X_test,y_train,y_test = train_test_split(X, y, test_size=0.20, random_state=42)\n",
    "\n",
    "regr = linear_model.LinearRegression()\n",
    "regr.fit(X_train, y_train)\n",
    "prediction = regr.predict(X_test)\n",
    "\n",
    "#print the evaluations of the model\n",
    "print(\"coeffs: \", regr.coef_, ', ',regr.intercept_)\n",
    "print(\"MSE : \", met.mean_squared_error(X_test, prediction))\n",
    "print(\"median absolute error : \", met.median_absolute_error(y_test, prediction))\n",
    "print(\"r2: \", met.r2_score(y_test, prediction))\n",
    "print(\"mean absolute error: \", met.mean_absolute_error(y_test, prediction))"
   ]
  },
  {
   "cell_type": "code",
   "execution_count": 41,
   "id": "7c899c06",
   "metadata": {},
   "outputs": [
    {
     "data": {
      "image/png": "[encoded data removed]",
      "text/plain": [
       "<Figure size 432x288 with 1 Axes>"
      ]
     },
     "metadata": {
      "needs_background": "light"
     },
     "output_type": "display_data"
    },
    {
     "name": "stdout",
     "output_type": "stream",
     "text": [
      "Daily rise in CPU power(log base):  [0.00048081]\n"
     ]
    }
   ],
   "source": [
    "#make a regression line (in semi-log plot, regression line should be concave down(curved))\n",
    "##a linear regression is shown as the blue curve \n",
    "#from sklearn.linear_model import LinearRegression \n",
    "y_val = regr.coef_*data.ordinal + regr.intercept_\n",
    "plt.plot(data.date, data['log_base'], 'o', color = 'orange')\n",
    "plt.plot(data.date, y_val, color = 'blue')\n",
    "plt.title('Base speed for 101.tomcatv (Semi-log plot)')\n",
    "plt.ylabel('log_10(Base performance)')\n",
    "plt.xticks(rotation = 60)\n",
    "plt.show()\n",
    "print(\"Daily rise in CPU power(log base): \", regr.coef_)\n"
   ]
  },
  {
   "cell_type": "code",
   "execution_count": 46,
   "id": "15cd3767",
   "metadata": {},
   "outputs": [
    {
     "name": "stdout",
     "output_type": "stream",
     "text": [
      "annual rise in CPU power : [1.49835492]\n",
      "every 2 years, rise in CPU power is :  [2.24506745]\n"
     ]
    }
   ],
   "source": [
    "print('annual rise in CPU power :', 10**(regr.coef_*365.25))\n",
    "print('every 2 years, rise in CPU power is : ', 10**(regr.coef_*365.25*2))"
   ]
  },
  {
   "cell_type": "markdown",
   "id": "4149ea2d",
   "metadata": {},
   "source": [
    "According to the regression, we can see that the computer is getting better and better. To prove that Moore's law is holding up, what we do is make a linear line on the semi-log plot, which is actually a exponential plot when y axis becomes non-log again. \n",
    "\n",
    "From the coefficient calculated above, it seems that every day there are 0.00048(log base 10) rise, which means in every two years, there is 0.351231705 rise (0.00048081x365.25x2) in log base 10. Thus, 10^(0.00048081*365.25*2) = 2.24506745 times of rise in terms of computing power in every 2 years. \n",
    "\n",
    "Moore's law(according to Wikipedia[https://en.wikipedia.org/wiki/Moore%27s_law]) is about semiconductor's density of transistor doubling every 2 years. \n",
    "\n",
    "And so far from the result, we can know that the Moore's law is still holding up in some sense even though it may not exactly be 'double' every 2 years. "
   ]
  },
  {
   "cell_type": "markdown",
   "id": "2335532c",
   "metadata": {},
   "source": [
    "### MNIST Digits\n",
    "\n",
    "No machine learning course would be complete without using the MNIST dataset. This dataset was a hugely influential dataset of handwritten digits (0-9).\n",
    "\n",
    "http://scikit-learn.org/stable/tutorial/basic/tutorial.html\n",
    "\n",
    "1. Using Scikit.learn, load the MNIST digits (See here: http://scikit-learn.org/stable/modules/generated/sklearn.datasets.load_digits.html#sklearn.datasets.load_digits).\n",
    "2. Plot some of the examples.\n",
    "3. Choose two digit classes (e.g 7s and 3s) , and train a k-nearest neighbor classifier.\n",
    "4. Report your error rates on a held out part of the data.\n",
    "5. (Optional) Test your model on the full dataset (available from http://yann.lecun.com/exdb/mnist/)\n"
   ]
  },
  {
   "cell_type": "code",
   "execution_count": 55,
   "id": "62085033",
   "metadata": {},
   "outputs": [
    {
     "name": "stdout",
     "output_type": "stream",
     "text": [
      "(1797, 64)\n"
     ]
    },
    {
     "data": {
      "image/png": "[encoded data removed]",
      "text/plain": [
       "<Figure size 720x216 with 10 Axes>"
      ]
     },
     "metadata": {
      "needs_background": "light"
     },
     "output_type": "display_data"
    }
   ],
   "source": [
    "#add more environments for the new task\n",
    "from sklearn.datasets import load_digits #load the data\n",
    "import pprint\n",
    "from IPython.display import display, HTML\n",
    "from sklearn.neighbors import KNeighborsClassifier\n",
    "from sklearn.metrics import classification_report\n",
    "from sklearn.model_selection import train_test_split\n",
    "import matplotlib.pyplot as plt\n",
    "import numpy as np \n",
    "\n",
    "digits = load_digits()\n",
    "#plot some of the examples\n",
    "print(digits.data.shape)\n",
    "\n",
    "#show the image of the written number data\n",
    "_, axes = plt.subplots(nrows=1, ncols=10, figsize=(10, 3))\n",
    "for ax, image, label in zip(axes, digits.images, digits.target):\n",
    "    ax.set_axis_off()\n",
    "    ax.imshow(image, cmap=plt.cm.gray_r, interpolation='nearest')\n",
    "    ax.set_title('Training: %i' % label)\n",
    "    "
   ]
  },
  {
   "cell_type": "code",
   "execution_count": 61,
   "id": "e9a4acbc",
   "metadata": {},
   "outputs": [
    {
     "name": "stdout",
     "output_type": "stream",
     "text": [
      "              precision    recall  f1-score   support\n",
      "\n",
      "           3       1.00      1.00      1.00        42\n",
      "           7       1.00      1.00      1.00        49\n",
      "\n",
      "    accuracy                           1.00        91\n",
      "   macro avg       1.00      1.00      1.00        91\n",
      "weighted avg       1.00      1.00      1.00        91\n",
      "\n"
     ]
    }
   ],
   "source": [
    "#pick the data with the two digit classes\n",
    "#before training the data, split the data into test and training\n",
    "X = digits.data\n",
    "y = digits.target\n",
    "X = X[np.logical_or(y==3,y==7)]\n",
    "y = y[np.logical_or(y==3,y==7)]\n",
    "#but why does X = digits.data[np.logical_or(y==3,y==7)] does not work?\n",
    "\n",
    "trainData,testData,trainLabel,testLabel = train_test_split(X, y, test_size=0.25, random_state=42)\n",
    "\n",
    "#the good guess for k = sqrt(total number of training data)\n",
    "model = KNeighborsClassifier(n_neighbors=42) #sqrt(1797) is about 42.4 But, with the given training, 5 works well too. \n",
    "model.fit(trainData,trainLabel)\n",
    "predictions = model.predict(testData)\n",
    "#print classification report \n",
    "print(classification_report(testLabel,predictions)) #has precision and recall\n",
    "#print(len(predictions))\n",
    "#print(len(testLabel))"
   ]
  },
  {
   "cell_type": "code",
   "execution_count": 62,
   "id": "75d8a6f4",
   "metadata": {},
   "outputs": [
    {
     "name": "stdout",
     "output_type": "stream",
     "text": [
      "accuracy score :  1.0\n",
      "confusion matrix: \n"
     ]
    },
    {
     "data": {
      "text/plain": [
       "array([[42,  0],\n",
       "       [ 0, 49]], dtype=int64)"
      ]
     },
     "execution_count": 62,
     "metadata": {},
     "output_type": "execute_result"
    }
   ],
   "source": [
    "print(\"accuracy score : \", met.accuracy_score(testLabel, predictions))\n",
    "print(\"confusion matrix: \")\n",
    "met.confusion_matrix(testLabel, predictions)"
   ]
  },
  {
   "cell_type": "markdown",
   "id": "d2964e7e",
   "metadata": {},
   "source": [
    "Error rate = 1- accuracy. (from up above, it is 5% when k =42, 2% when k = 5)\n",
    "\n",
    "precision = true positive/spotted positive\n",
    "\n",
    "recall = true positive/actually positive\n",
    "\n",
    "f1 score = harmonic mean of the precision and recall = true positive/(true positive + (1/2)(False positive + False negative))\n",
    "\n",
    "From this, the K-nearest neighbor algorithm has been trained to differenciate 3 and 7 quite well with high accuracy of about 1.00 (when random seed was 123, it was about 0.99). Well, it may be a cause of having such a distinct shape of number, however, other numbers that I've tried with combinations still had high accuracy and f1 scores as well. "
   ]
  },
  {
   "cell_type": "markdown",
   "id": "98a446b9",
   "metadata": {},
   "source": [
    "### (Optional) Try test the model on the full dataset. "
   ]
  },
  {
   "cell_type": "code",
   "execution_count": null,
   "id": "d01603ca",
   "metadata": {},
   "outputs": [],
   "source": [
    "import gzip\n"
   ]
  }
 ],
 "metadata": {
  "kernelspec": {
   "display_name": "Python 3 (ipykernel)",
   "language": "python",
   "name": "python3"
  },
  "language_info": {
   "codemirror_mode": {
    "name": "ipython",
    "version": 3
   },
   "file_extension": ".py",
   "mimetype": "text/x-python",
   "name": "python",
   "nbconvert_exporter": "python",
   "pygments_lexer": "ipython3",
   "version": "3.8.12"
  }
 },
 "nbformat": 4,
 "nbformat_minor": 5
}
