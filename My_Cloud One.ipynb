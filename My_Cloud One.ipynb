{
 "cells": [
  {
   "cell_type": "code",
   "execution_count": 4,
   "id": "c3aeaee3",
   "metadata": {},
   "outputs": [
    {
     "ename": "SyntaxError",
     "evalue": "invalid syntax (Temp/ipykernel_27308/4044473456.py, line 4)",
     "output_type": "error",
     "traceback": [
      "\u001b[1;36m  File \u001b[1;32m\"C:\\Users\\green\\AppData\\Local\\Temp/ipykernel_27308/4044473456.py\"\u001b[1;36m, line \u001b[1;32m4\u001b[0m\n\u001b[1;33m    pip install pocketsphinx\u001b[0m\n\u001b[1;37m        ^\u001b[0m\n\u001b[1;31mSyntaxError\u001b[0m\u001b[1;31m:\u001b[0m invalid syntax\n"
     ]
    }
   ],
   "source": [
    "#install the required libraries (SpeechRecognition, PyAudio)\n",
    "##pip install SpeechRecognition\n",
    "##pip install PyAudio\n",
    "#pip install pocketsphinx #sphinx for recognizing English \n",
    "#Reason why I am trying this:\n",
    "#Mark Zukerberg on CNN, he built Jarvis for himself.\n",
    "#And seeing this I wanted my own AI too"
   ]
  },
  {
   "cell_type": "code",
   "execution_count": 5,
   "id": "ca577209",
   "metadata": {},
   "outputs": [
    {
     "ename": "SyntaxError",
     "evalue": "invalid syntax (Temp/ipykernel_27308/3526946866.py, line 3)",
     "output_type": "error",
     "traceback": [
      "\u001b[1;36m  File \u001b[1;32m\"C:\\Users\\green\\AppData\\Local\\Temp/ipykernel_27308/3526946866.py\"\u001b[1;36m, line \u001b[1;32m3\u001b[0m\n\u001b[1;33m    pip install pocketsphinx\u001b[0m\n\u001b[1;37m        ^\u001b[0m\n\u001b[1;31mSyntaxError\u001b[0m\u001b[1;31m:\u001b[0m invalid syntax\n"
     ]
    }
   ],
   "source": [
    "#setting up the libraries\n",
    "import speech_recognition as sr\n"
   ]
  },
  {
   "cell_type": "code",
   "execution_count": 7,
   "id": "dc171efa",
   "metadata": {},
   "outputs": [
    {
     "ename": "ModuleNotFoundError",
     "evalue": "No module named 'pocketsphinx'",
     "output_type": "error",
     "traceback": [
      "\u001b[1;31m---------------------------------------------------------------------------\u001b[0m",
      "\u001b[1;31mModuleNotFoundError\u001b[0m                       Traceback (most recent call last)",
      "\u001b[1;32m~\\AppData\\Local\\Temp/ipykernel_27308/3375066045.py\u001b[0m in \u001b[0;36m<module>\u001b[1;34m\u001b[0m\n\u001b[1;32m----> 1\u001b[1;33m \u001b[1;32mimport\u001b[0m \u001b[0mpocketsphinx\u001b[0m\u001b[1;33m\u001b[0m\u001b[1;33m\u001b[0m\u001b[0m\n\u001b[0m",
      "\u001b[1;31mModuleNotFoundError\u001b[0m: No module named 'pocketsphinx'"
     ]
    }
   ],
   "source": [
    "import pocketsphinx"
   ]
  },
  {
   "cell_type": "code",
   "execution_count": 3,
   "id": "f3eb59db",
   "metadata": {},
   "outputs": [
    {
     "name": "stdout",
     "output_type": "stream",
     "text": [
      "어떤 언어로 할까요? 영어는 0, 한글은 1을 부탁드립니다\n",
      "What Language do you prefer? input 0 for English, 1 for Korean\n",
      "0\n",
      "Hi, I am Cloud One\n"
     ]
    },
    {
     "ename": "AttributeError",
     "evalue": "'Recognizer' object has no attribute 'recgonize_sphinx'",
     "output_type": "error",
     "traceback": [
      "\u001b[1;31m---------------------------------------------------------------------------\u001b[0m",
      "\u001b[1;31mAttributeError\u001b[0m                            Traceback (most recent call last)",
      "\u001b[1;32m~\\AppData\\Local\\Temp/ipykernel_27308/425083475.py\u001b[0m in \u001b[0;36m<module>\u001b[1;34m\u001b[0m\n\u001b[0;32m     24\u001b[0m \u001b[1;32melse\u001b[0m\u001b[1;33m:\u001b[0m\u001b[1;33m\u001b[0m\u001b[1;33m\u001b[0m\u001b[0m\n\u001b[0;32m     25\u001b[0m     \u001b[1;32mtry\u001b[0m\u001b[1;33m:\u001b[0m\u001b[1;33m\u001b[0m\u001b[1;33m\u001b[0m\u001b[0m\n\u001b[1;32m---> 26\u001b[1;33m         \u001b[0mprint\u001b[0m\u001b[1;33m(\u001b[0m\u001b[0mr\u001b[0m\u001b[1;33m.\u001b[0m\u001b[0mrecgonize_sphinx\u001b[0m\u001b[1;33m(\u001b[0m\u001b[0maudio\u001b[0m\u001b[1;33m)\u001b[0m\u001b[1;33m+\u001b[0m\u001b[1;34m\"라고 인식했습니다\"\u001b[0m\u001b[1;33m)\u001b[0m\u001b[1;33m\u001b[0m\u001b[1;33m\u001b[0m\u001b[0m\n\u001b[0m\u001b[0;32m     27\u001b[0m     \u001b[1;32mexcept\u001b[0m \u001b[0msr\u001b[0m\u001b[1;33m.\u001b[0m\u001b[0mUnknownValueError\u001b[0m\u001b[1;33m:\u001b[0m\u001b[1;33m\u001b[0m\u001b[1;33m\u001b[0m\u001b[0m\n\u001b[0;32m     28\u001b[0m         \u001b[0mprint\u001b[0m\u001b[1;33m(\u001b[0m\u001b[1;34m\"미안해요, 제가 좀 더 공부하고 올게요. 다음에는 꼭 도움이 될수 있는 클라우드 원이 되겠습니다\"\u001b[0m\u001b[1;33m)\u001b[0m\u001b[1;33m\u001b[0m\u001b[1;33m\u001b[0m\u001b[0m\n",
      "\u001b[1;31mAttributeError\u001b[0m: 'Recognizer' object has no attribute 'recgonize_sphinx'"
     ]
    }
   ],
   "source": [
    "#Trial Codes without any OpenAPIs\n",
    "#Get Audio Input\n",
    "r = sr.Recognizer()\n",
    "\n",
    "#Ask language preference (I will mainly code for Korean)\n",
    "print(\"어떤 언어로 할까요? 영어는 0, 한글은 1을 부탁드립니다\")\n",
    "print(\"What Language do you prefer? input 0 for English, 1 for Korean\")\n",
    "language = input()\n",
    "with sr.Microphone() as source:\n",
    "    if language == '0':\n",
    "        print(\"Hi, I am Cloud One\")\n",
    "    else:\n",
    "        print(\"안녕하세요, 저는 '클라우드 원'입니다\")\n",
    "    audio = r.listen(source)\n",
    "\n",
    "#recognize speech using sphinx\n",
    "if language == 0:\n",
    "    try:\n",
    "        print(\"I've heard \" + r.recgonize_sphinx(audio))\n",
    "    except sr.UnknownValueError:\n",
    "        print(\"Sorry, I couldn't understand. I wish I could have been a better help\")\n",
    "    except sr.RequestError:\n",
    "        print(\"Sorry, that is out of my ability\")\n",
    "else:\n",
    "    try:\n",
    "        print(r.recgonize_sphinx(audio)+\"라고 인식했습니다\")\n",
    "    except sr.UnknownValueError:\n",
    "        print(\"미안해요, 제가 좀 더 공부하고 올게요. 다음에는 꼭 도움이 될수 있는 클라우드 원이 되겠습니다\")\n",
    "    except sr.RequestError:\n",
    "        print(\"죄송해요, 아직 저는 그걸 해낼 능력이 부족하네요. 언젠가는 수행할 수 있도록 최선을 다해 공부하는 클라우드 원이 되겠습니다\")\n",
    "\n",
    "#write audio to a WAV file\n",
    "with open(\"microphone-results.wav\", \"wb\") as f:\n",
    "    f.write(audio.get_wav_data())\n",
    "\n",
    "#To use the service better, set up your \"MY application Settings\">\"Recordings\">\"Activate\" to be always on"
   ]
  },
  {
   "cell_type": "markdown",
   "id": "e1550259",
   "metadata": {},
   "source": [
    "### Now Build up using Open APIs"
   ]
  },
  {
   "cell_type": "code",
   "execution_count": 8,
   "id": "8da77436",
   "metadata": {},
   "outputs": [],
   "source": [
    "#Now using Korean STT API from Kakao\n",
    "#Set up the environment\n",
    "#Requirements: 16000Hz, mono sterio\n",
    "import requests\n",
    "import json"
   ]
  },
  {
   "cell_type": "code",
   "execution_count": 9,
   "id": "74c7e0e1",
   "metadata": {},
   "outputs": [],
   "source": [
    "url = \"https://kakaoi-newtone-openapi.kakao.com/v1/recognize\""
   ]
  },
  {
   "cell_type": "code",
   "execution_count": null,
   "id": "8de805a0",
   "metadata": {},
   "outputs": [],
   "source": [
    "#Part 1: STT\n",
    "#I had one month free trial for the Open API. (~2021.11.30)\n",
    "tokens = rest_api_key#put where your app key value is at \"rest_api_key\"\n",
    "\n",
    "header = {\"Content-Type\" : \"application/octet-stream\",\n",
    "         \"Authorization\" : \"KakaoAK\" + tokens['app_key']}\n",
    "\n",
    "r = sr.Recognizer()\n",
    "#sr.Microphone? <- reads the library information\n",
    "#change the sampling rate as 16k Hz\n",
    "with sr.Microphone(sample_rate = 16000) as source:\n",
    "    print(\"네, 클라우드 원 준비되었습니다. 하명하십시오\")\n",
    "    audio = r.listen(source)\n",
    "\n",
    "res = requests.post(url, headers = header, data = audio.get_raw_data())\n",
    "\n",
    "try:\n",
    "    print(r.recgonize_sphinx(audio)+\"라고 인식했습니다\")\n",
    "except sr.UnknownValueError:\n",
    "    print(\"미안해요, 제가 좀 더 공부하고 올게요. 다음에는 꼭 도움이 될수 있는 클라우드 원이 되겠습니다\")\n",
    "except sr.RequestError:\n",
    "    print(\"죄송해요, 아직 저는 그걸 해낼 능력이 부족하네요. 언젠가는 수행할 수 있도록 최선을 다해 공부하는 클라우드 원이 되겠습니다\")\n",
    "\n",
    "#write audio to a WAV file\n",
    "with open(\"microphone-results.wav\", \"wb\") as f:\n",
    "    f.write(audio.get_wav_data())\n",
    "\n",
    "print(res.text) #shows what I've said. Final results are saved at \"nBest\"\n"
   ]
  },
  {
   "cell_type": "code",
   "execution_count": null,
   "id": "17b944ad",
   "metadata": {},
   "outputs": [],
   "source": [
    "#Tasks that Cloud One can do\n",
    "#Only in Korean tho\n",
    "#\"오늘 일정 파악해서 주변 맛집 검색해줘\" : From Today's task, find the nearby restauratnts with high reviews\n",
    "#results will be sent to KaKao/Naver/Google \n",
    "#Thus, the tokens for access is needed. \n",
    "#KaKao = Rest API Key, User Token. \n",
    "#Google = Oauth Client ID json\n",
    "#Naver = Client ID\n",
    "#I'll put them in auth.py file (has read_auth and update_auth functions)\n",
    "#codes for this part from ai-creator.tstory/220\n",
    "\n",
    "from google_auth_authlib.flow import InstalledAppFlow\n",
    "from auth import read_auth, update_auth\n",
    "gcreds_filename = read_auth(\"google\")\n",
    "scopes = [\"https://www.googleapis.com/auth/calendar\"]\n",
    "flow = InstalledAppFlow.from_client_secrets_file(gcreds_filename, scopes)\n",
    "gcreds = flow.run_local_server(port=0)\n",
    "\n",
    "kakao_tokens = read_auth(\"kakao\")\n",
    "kakao_tokens = update_auth(\"kakao\", kakao_tokens) #just in case if the token is expired\n",
    "kakaocreds = {\"access_token\" : kakao_tokens['access_token']}\n",
    "kakaoheaders = {\"Authorization\" : \"Bearer \" + kakaocreds.get('access_token')}\n",
    "\n",
    "naver_tokens = read_auth('naver')\n",
    "naver_creds = {\"client_id\": naver_tokens['client_id'], \n",
    "              \"client_secret\" : naver_tokens['client_secret']}\n",
    "naverheaders = {\n",
    "    \"X-Naver-Client-Id\" : naver_creds.get('client_id'), \n",
    "    \"X-Naver-Client-Secret\" : ncreds.get('client_secret')}\n"
   ]
  },
  {
   "cell_type": "code",
   "execution_count": null,
   "id": "9fab4137",
   "metadata": {},
   "outputs": [],
   "source": [
    "#Tasks for Today (Using Google Calendar)\n",
    "import datetime\n",
    "import urllib\n",
    "from googleapiclient.discovery import build\n",
    "\n",
    "service = build('calendar', 'v3', credentials = gcreds)\n",
    "\n",
    "##variables\n",
    "caledar_id = 'primary'\n",
    "today = datetime.date.today().isoformat()\n",
    "time_min = today + 'T00:00:00+09:00' #KST = GDT+9 (this is 00:00am in Korea)\n",
    "time_max = today + 'T23:50:59+09:00' #this is 11:59pm in Korea\n",
    "max_results = 1 #maximum number of tasks to call. For testing '1' task to call\n",
    "is_single_events = True #Check if there are repeating tasks\n",
    "orderby = 'startTime' #Sort the Calendar\n",
    "\n",
    "##Call the today's tasks\n",
    "events_result = service.events().list(caledarID = calendar_id, \n",
    "                                     timeMin = time_min,\n",
    "                                     timeMax = time_max,\n",
    "                                     maxResults = max_results,\n",
    "                                     singleEvents = is_single_Events,\n",
    "                                     orderBy = orderby).execute()\n",
    "events_result.get('items',[])\n",
    "items = events_result.get('items')\n",
    "item = items[0]\n",
    "gsummary = item.get('summary') #name of the task\n",
    "gcategory, glocation = gsummary[gsummary.index('[')+1 :gsummary.index(']')].split('-')\n",
    "gevent_url = item.get('htmlLlnk') #getting the google calendar link\n",
    "gaddress = item.get('location') #getting the location\n",
    "\n",
    "if ',' in gaddress:\n",
    "    gaddress = gaddress.split(',')[1].strip()\n",
    "\n",
    "##Sort the reviews by comment of the blog. \n",
    "nparams = 'sort=comment&query=' + enc_location #get the local search results\n",
    "naver_local_url - \"https://openapi.naver.com/v1/search/local.json?\" + nparams\n",
    "res = requests.get(naver_local_url, headers = naverheaders) #search nearby restaurants\n",
    "##list of 10 restaurants near by\n",
    "places = res.json().get('items')\n",
    "###places[0]\n",
    "\n",
    "##send the result to Kakao Talk (Kinda like Slack or Facebook Message but widely used in Korea)\n",
    "contents = []\n",
    "for place in places[:3]:\n",
    "    ntitle = place.get('title')\n",
    "    ncategory = place.get('category') #type of cusine\n",
    "    ntelephone = place.get('telephone')\n",
    "    nlocation = place.get('address')\n",
    "    #codes to search the query in Naver\n",
    "    enc_location - urllib.parse.quote(nlocation + \" \" + ntitle)\n",
    "    query = \"query=\" + enc_location \n",
    "    #If the place is a cafe, print coffee cup icon\n",
    "    #if the place is a restaurant, print food icon\n",
    "    if '카페' in ncategory:\n",
    "        image_url = \"https://freesvg.org/img/pitr_Coffee_cup_icon.png\"\n",
    "    else: \n",
    "        image_url = 'https://freesvg.org/img/bentolunch.png?w=150&h=150&fit=fill'\n",
    "    #if the phone number exists, print with name\n",
    "    if ntelephone:\n",
    "        ntitle = ntitle+\"\\ntel) \"+ntelephone\n",
    "    #make it fit to the Kakao Talk Template \n",
    "    content = {\n",
    "        \"title\" : \"[\"+ncategory+\"]\"+ntite,\n",
    "        \"description\": ' '.join(nlocation.split()[1:]),\n",
    "        \"image_url\" = image_url,\n",
    "        \"image_width\":30, \n",
    "        \"image_height\":30,\n",
    "        \"link\" : {\n",
    "            \"web_url\":'https://search.naver.com/search.naver?' + query,\n",
    "            'mobile-web_url' : \"https://search.naver.com/search.naver?\" + query\n",
    "        }\n",
    "    }\n",
    "    contents.append(content)\n",
    "\n",
    "##link the calendar to Naver\n",
    "enc_gaddress = urllib.parse.quote(gaddress)\n",
    "query = \"query=\" + enc_gaddress\n",
    "gaddr_url = \"https://search.naver.com/search.naver?\" + query\n",
    "\n",
    "gaddr_url\n",
    "\n",
    "kakao_template = {\n",
    "    \"object_type\":\"list\",\n",
    "    \"header_title\":\"'%s' = 맛집추천\" %ㅎ녀ㅡㅡㅁ교,\n",
    "    \"header_link\":{\n",
    "        \"web_url\":gevent_url,\n",
    "        \"mobile_web_url\" : gevent_url\n",
    "    },\n",
    "    \"contents\" : contents,\n",
    "    \"buttons\"  : [\n",
    "        {\"title\": \"일정 자세히 보기\",\n",
    "        \"link\" : {\n",
    "            \"web_url\" : gevent_url,\n",
    "            \"mobile_web_url\" : gevent_url\n",
    "        }},\n",
    "        {\"title\" : \"일정 장소 보기\",\n",
    "        \"link\": {\n",
    "            \"web_url\":gaddr_url,\n",
    "            \"mobile_web_url\":gaddr_url\n",
    "        }}\n",
    "    ]\n",
    "}\n",
    "\n",
    "#Efrom json to string (json.dump> dict -> string(json))\n",
    "kpayload = {\n",
    "    \"template_object\":json.dumps(ktemplate)\n",
    "}\n",
    "kpayload\n",
    "\n",
    "##Now send the text to Kakao\n",
    "##Custom template url : https://kapi.kakao.com/v2/api/talk/memo/send\n",
    "##scrap template url : https://kapi.kakao.com/v2/api/talk/memo/scrap/send\n",
    "kakaotalk_template_url = \"https://kapi.kakao.com/v2/api/talk/memo/default/send\"\n",
    "res = requests.post(kakaotalk_template_url, data=kpayload, headers = kakaoheaders)\n",
    "res.json()\n",
    "\n"
   ]
  }
 ],
 "metadata": {
  "kernelspec": {
   "display_name": "Python 3 (ipykernel)",
   "language": "python",
   "name": "python3"
  },
  "language_info": {
   "codemirror_mode": {
    "name": "ipython",
    "version": 3
   },
   "file_extension": ".py",
   "mimetype": "text/x-python",
   "name": "python",
   "nbconvert_exporter": "python",
   "pygments_lexer": "ipython3",
   "version": "3.8.12"
  }
 },
 "nbformat": 4,
 "nbformat_minor": 5
}
