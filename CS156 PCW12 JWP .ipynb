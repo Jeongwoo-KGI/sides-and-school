{
 "cells": [
  {
   "cell_type": "code",
   "execution_count": 15,
   "id": "69d65861",
   "metadata": {},
   "outputs": [],
   "source": [
    "heads = [14, 33, 19, 10, 0, 17, 24, 17, 1, 36, 5, 6, 5, 13, 4, 35, 5, 5, 74, 34]\n",
    "throws = [41, 43, 23, 23, 1, 23, 36, 37, 2, 131, 5, 29, 13, 47, 10, 58, 15, 14, 100, 113]"
   ]
  },
  {
   "cell_type": "code",
   "execution_count": 16,
   "id": "51102dd3",
   "metadata": {},
   "outputs": [],
   "source": [
    "#import the environment\n",
    "import numpy as np\n",
    "import pandas as pd\n",
    "from math import comb\n",
    "data = pd.DataFrame([heads, throws])"
   ]
  },
  {
   "cell_type": "code",
   "execution_count": 17,
   "id": "c391b43a",
   "metadata": {},
   "outputs": [],
   "source": [
    "data = data.transpose().rename(columns={0:'heads', 1:'throws'})\n"
   ]
  },
  {
   "cell_type": "code",
   "execution_count": 23,
   "id": "42303e5a",
   "metadata": {},
   "outputs": [
    {
     "name": "stdout",
     "output_type": "stream",
     "text": [
      "    heads  throws  tail  heads ratio\n",
      "0      14      41    27     0.341463\n",
      "1      33      43    10     0.767442\n",
      "2      19      23     4     0.826087\n",
      "3      10      23    13     0.434783\n",
      "4       0       1     1     0.000000\n",
      "5      17      23     6     0.739130\n",
      "6      24      36    12     0.666667\n",
      "7      17      37    20     0.459459\n",
      "8       1       2     1     0.500000\n",
      "9      36     131    95     0.274809\n",
      "10      5       5     0     1.000000\n",
      "11      6      29    23     0.206897\n",
      "12      5      13     8     0.384615\n",
      "13     13      47    34     0.276596\n",
      "14      4      10     6     0.400000\n",
      "15     35      58    23     0.603448\n",
      "16      5      15    10     0.333333\n",
      "17      5      14     9     0.357143\n",
      "18     74     100    26     0.740000\n",
      "19     34     113    79     0.300885\n"
     ]
    }
   ],
   "source": [
    "print(data)"
   ]
  },
  {
   "cell_type": "code",
   "execution_count": 20,
   "id": "48b9ac2a",
   "metadata": {},
   "outputs": [],
   "source": [
    "data['tail'] = data['throws']-data['heads']"
   ]
  },
  {
   "cell_type": "code",
   "execution_count": 22,
   "id": "b1076108",
   "metadata": {},
   "outputs": [
    {
     "name": "stdout",
     "output_type": "stream",
     "text": [
      "    heads  throws  tail\n",
      "0      14      41    27\n",
      "1      33      43    10\n",
      "2      19      23     4\n",
      "3      10      23    13\n",
      "4       0       1     1\n",
      "5      17      23     6\n",
      "6      24      36    12\n",
      "7      17      37    20\n",
      "8       1       2     1\n",
      "9      36     131    95\n",
      "10      5       5     0\n",
      "11      6      29    23\n",
      "12      5      13     8\n",
      "13     13      47    34\n",
      "14      4      10     6\n",
      "15     35      58    23\n",
      "16      5      15    10\n",
      "17      5      14     9\n",
      "18     74     100    26\n",
      "19     34     113    79\n",
      "    heads  throws  tail  heads ratio\n",
      "0      14      41    27     0.341463\n",
      "1      33      43    10     0.767442\n",
      "2      19      23     4     0.826087\n",
      "3      10      23    13     0.434783\n",
      "4       0       1     1     0.000000\n",
      "5      17      23     6     0.739130\n",
      "6      24      36    12     0.666667\n",
      "7      17      37    20     0.459459\n",
      "8       1       2     1     0.500000\n",
      "9      36     131    95     0.274809\n",
      "10      5       5     0     1.000000\n",
      "11      6      29    23     0.206897\n",
      "12      5      13     8     0.384615\n",
      "13     13      47    34     0.276596\n",
      "14      4      10     6     0.400000\n",
      "15     35      58    23     0.603448\n",
      "16      5      15    10     0.333333\n",
      "17      5      14     9     0.357143\n",
      "18     74     100    26     0.740000\n",
      "19     34     113    79     0.300885\n"
     ]
    }
   ],
   "source": [
    "print(data)\n",
    "data['heads ratio'] = data.heads/data.throws\n",
    "print(data)"
   ]
  },
  {
   "cell_type": "code",
   "execution_count": 26,
   "id": "d4de52fa",
   "metadata": {},
   "outputs": [
    {
     "name": "stdout",
     "output_type": "stream",
     "text": [
      "    heads  throws  tail  heads ratio  probability that it is a  \\\n",
      "0      14      41    27     0.341463              2.148553e-09   \n",
      "1      33      43    10     0.767442              9.999931e-01   \n",
      "2      19      23     4     0.826087              9.998455e-01   \n",
      "3      10      23    13     0.434783              6.418666e-04   \n",
      "4       0       1     1     0.000000              2.500000e-01   \n",
      "5      17      23     6     0.739130              9.944689e-01   \n",
      "6      24      36    12     0.666667              9.692962e-01   \n",
      "7      17      37    20     0.459459              3.758967e-05   \n",
      "8       1       2     1     0.500000              4.000000e-01   \n",
      "9      36     131    95     0.274809              3.240117e-35   \n",
      "10      5       5     0     1.000000              9.696970e-01   \n",
      "11      6      29    23     0.206897              6.798156e-10   \n",
      "12      5      13     8     0.384615              4.853633e-03   \n",
      "13     13      47    34     0.276596              4.912101e-13   \n",
      "14      4      10     6     0.400000              2.147651e-02   \n",
      "15     35      58    23     0.603448              2.673849e-01   \n",
      "16      5      15    10     0.333333              5.416293e-04   \n",
      "17      5      14     9     0.357143              1.623130e-03   \n",
      "18     74     100    26     0.740000              1.000000e+00   \n",
      "19     34     113    79     0.300885              3.486910e-28   \n",
      "\n",
      "    probability that it is b  \n",
      "0               1.000000e+00  \n",
      "1               6.874161e-06  \n",
      "2               1.544714e-04  \n",
      "3               9.993581e-01  \n",
      "4               7.500000e-01  \n",
      "5               5.531066e-03  \n",
      "6               3.070377e-02  \n",
      "7               9.999624e-01  \n",
      "8               6.000000e-01  \n",
      "9               1.000000e+00  \n",
      "10              3.030303e-02  \n",
      "11              1.000000e+00  \n",
      "12              9.951464e-01  \n",
      "13              1.000000e+00  \n",
      "14              9.785235e-01  \n",
      "15              7.326151e-01  \n",
      "16              9.994584e-01  \n",
      "17              9.983769e-01  \n",
      "18              1.345653e-10  \n",
      "19              1.000000e+00  \n"
     ]
    }
   ],
   "source": [
    "#initializing the parameters\n",
    "#as I don't know the portions of coin A and B inside the bag, I am starting with uniform dist\n",
    "theta_a = 0.5 #likelihood of getting coin A\n",
    "theta_b = 0.5 #likelihood of getting coin B\n",
    "a_H = 0.8 #likelihood of coin A getting a head\n",
    "b_H = 0.4 #likelihood of coin B getting a head\n",
    "def pz_given_data(theta_a, a_H, theta_b, b_H, heads, throws):\n",
    "    pe_za = comb(throws, heads)*(a_H**heads)*((1-a_H)**(throws-heads))\n",
    "    pe_zb = comb(throws, heads)*(b_H**heads)*((1-b_H)**(throws-heads))\n",
    "    pza_e = pe_za*theta_a/(pe_za*theta_a + pe_zb*theta_b)\n",
    "    pzb_e = pe_zb*theta_b/(pe_za*theta_a + pe_zb*theta_b)\n",
    "    return pza_e, pzb_e\n",
    "\n",
    "#Estep\n",
    "prob_a = []\n",
    "prob_b = []\n",
    "\n",
    "for i in range(len(data)):\n",
    "    probs = pz_given_data(theta_a, a_H, theta_b, b_H, data['heads'][i], data['throws'][i])\n",
    "    prob_a.append(probs[0])\n",
    "    prob_b.append(probs[1])\n",
    "data['probability that it is a'] = prob_a\n",
    "data['probability that it is b'] = prob_b\n",
    "print(data)"
   ]
  },
  {
   "cell_type": "code",
   "execution_count": 28,
   "id": "fdd9aba4",
   "metadata": {},
   "outputs": [
    {
     "name": "stdout",
     "output_type": "stream",
     "text": [
      "    heads  throws  tail  heads ratio  probability that it is a  \\\n",
      "0      14      41    27     0.341463              2.148553e-09   \n",
      "1      33      43    10     0.767442              9.999931e-01   \n",
      "2      19      23     4     0.826087              9.998455e-01   \n",
      "3      10      23    13     0.434783              6.418666e-04   \n",
      "4       0       1     1     0.000000              2.500000e-01   \n",
      "5      17      23     6     0.739130              9.944689e-01   \n",
      "6      24      36    12     0.666667              9.692962e-01   \n",
      "7      17      37    20     0.459459              3.758967e-05   \n",
      "8       1       2     1     0.500000              4.000000e-01   \n",
      "9      36     131    95     0.274809              3.240117e-35   \n",
      "10      5       5     0     1.000000              9.696970e-01   \n",
      "11      6      29    23     0.206897              6.798156e-10   \n",
      "12      5      13     8     0.384615              4.853633e-03   \n",
      "13     13      47    34     0.276596              4.912101e-13   \n",
      "14      4      10     6     0.400000              2.147651e-02   \n",
      "15     35      58    23     0.603448              2.673849e-01   \n",
      "16      5      15    10     0.333333              5.416293e-04   \n",
      "17      5      14     9     0.357143              1.623130e-03   \n",
      "18     74     100    26     0.740000              1.000000e+00   \n",
      "19     34     113    79     0.300885              3.486910e-28   \n",
      "\n",
      "    probability that it is b  heads attributed to A  heads attributed to B  \n",
      "0               1.000000e+00           3.007974e-08           1.400000e+01  \n",
      "1               6.874161e-06           3.299977e+01           2.268473e-04  \n",
      "2               1.544714e-04           1.899707e+01           2.934956e-03  \n",
      "3               9.993581e-01           6.418666e-03           9.993581e+00  \n",
      "4               7.500000e-01           0.000000e+00           0.000000e+00  \n",
      "5               5.531066e-03           1.690597e+01           9.402812e-02  \n",
      "6               3.070377e-02           2.326311e+01           7.368904e-01  \n",
      "7               9.999624e-01           6.390244e-04           1.699936e+01  \n",
      "8               6.000000e-01           4.000000e-01           6.000000e-01  \n",
      "9               1.000000e+00           1.166442e-33           3.600000e+01  \n",
      "10              3.030303e-02           4.848485e+00           1.515152e-01  \n",
      "11              1.000000e+00           4.078893e-09           6.000000e+00  \n",
      "12              9.951464e-01           2.426816e-02           4.975732e+00  \n",
      "13              1.000000e+00           6.385731e-12           1.300000e+01  \n",
      "14              9.785235e-01           8.590604e-02           3.914094e+00  \n",
      "15              7.326151e-01           9.358471e+00           2.564153e+01  \n",
      "16              9.994584e-01           2.708146e-03           4.997292e+00  \n",
      "17              9.983769e-01           8.115648e-03           4.991884e+00  \n",
      "18              1.345653e-10           7.400000e+01           9.957830e-09  \n",
      "19              1.000000e+00           1.185549e-26           3.400000e+01  \n"
     ]
    }
   ],
   "source": [
    "def heads_attribute(heads, prob_a, prob_b): #heads attributed to A\n",
    "    heads_a = heads*prob_a\n",
    "    heads_b = heads-heads_a\n",
    "    return heads_a, heads_b\n",
    "h_att_a = []\n",
    "h_att_b = []\n",
    "for i in range(len(data)):\n",
    "    attributes = heads_attribute(data['heads'][i], data['probability that it is a'][i], data['probability that it is b'])\n",
    "    h_att_a.append(attributes[0])\n",
    "    h_att_b.append(attributes[1])\n",
    "data['heads attributed to A'] = h_att_a\n",
    "data['heads attributed to B'] = h_att_b\n",
    "print(data)"
   ]
  },
  {
   "cell_type": "markdown",
   "id": "f29a76a7",
   "metadata": {},
   "source": [
    "### Optional: Updating the likelihood of the coin\n",
    "Iteration of this process will allow updates in bias of choosing the coin\n"
   ]
  },
  {
   "cell_type": "code",
   "execution_count": 29,
   "id": "54415a21",
   "metadata": {},
   "outputs": [],
   "source": [
    "#M step\n",
    "#once we have an estimate, we improve the estimate\n",
    "theta_a = sum(data['heads attributed to A'])/sum(data['probability that it is a']*data['throws'])\n",
    "theta_b = sum(data['heads attributed to B'])/sum(data['probability that it is b']*data['throws'])"
   ]
  },
  {
   "cell_type": "code",
   "execution_count": 31,
   "id": "63a82d57",
   "metadata": {},
   "outputs": [
    {
     "name": "stdout",
     "output_type": "stream",
     "text": [
      "coin selection bias\n",
      "0.73688152195779 0.3396286666694469\n"
     ]
    }
   ],
   "source": [
    "#new likelihood (initially was 0.5 and 0.5)\n",
    "#bias of the choosing coin is updated(Optional)\n",
    "print('coin selection bias')\n",
    "print(theta_a, theta_b)"
   ]
  },
  {
   "cell_type": "markdown",
   "id": "54acb508",
   "metadata": {},
   "source": [
    "### functions for updating the coin flips likelihood\n"
   ]
  },
  {
   "cell_type": "code",
   "execution_count": 32,
   "id": "251308c5",
   "metadata": {},
   "outputs": [],
   "source": [
    "def coin_em(rolls, theta_A=None, theta_B=None, maxiter=10):\n",
    "    # Initial Guess\n",
    "    theta_A = theta_A or random.random()\n",
    "    theta_B = theta_B or random.random()\n",
    "    thetas = [(theta_A, theta_B)]\n",
    "    # Iterate\n",
    "    for c in range(maxiter):\n",
    "        print(\"#%d:\\t%0.2f %0.2f\" % (c, theta_A, theta_B))\n",
    "        heads_A, tails_A, heads_B, tails_B = e_step(rolls, theta_A, theta_B)\n",
    "        theta_A, theta_B = m_step(heads_A, tails_A, heads_B, tails_B)\n",
    "        \n",
    "    thetas.append((theta_A,theta_B))    \n",
    "    return thetas, (theta_A,theta_B)\n",
    "\n",
    "def e_step(rolls, theta_A, theta_B):\n",
    "    \"\"\"Produce the expected value for heads_A, tails_A, heads_B, tails_B \n",
    "    over the rolls given the coin biases\"\"\"\n",
    "    \n",
    "    heads_A, tails_A = 0,0\n",
    "    heads_B, tails_B = 0,0\n",
    "    for trial in rolls:\n",
    "        likelihood_A = coin_likelihood(trial, theta_A)\n",
    "        likelihood_B = coin_likelihood(trial, theta_B)\n",
    "        p_A = likelihood_A / (likelihood_A + likelihood_B)\n",
    "        p_B = likelihood_B / (likelihood_A + likelihood_B)\n",
    "        heads_A += p_A * trial.count(\"H\")\n",
    "        tails_A += p_A * trial.count(\"T\")\n",
    "        heads_B += p_B * trial.count(\"H\")\n",
    "        tails_B += p_B * trial.count(\"T\") \n",
    "    return heads_A, tails_A, heads_B, tails_B\n",
    "\n",
    "def m_step(heads_A, tails_A, heads_B, tails_B):\n",
    "    \"\"\"Produce the values for theta that maximize the expected number of heads/tails\"\"\"\n",
    "\n",
    "    # Replace dummy values with your implementation\n",
    "    theta_A = heads_A / (heads_A + tails_A)\n",
    "    theta_B = heads_B / (heads_B + tails_B)\n",
    "    return theta_A, theta_B\n",
    "\n",
    "def coin_likelihood(roll, bias):\n",
    "    # P(X | Z, theta)\n",
    "    numHeads = roll.count(\"H\")\n",
    "    flips = len(roll)\n",
    "    return pow(bias, numHeads) * pow(1-bias, flips-numHeads)"
   ]
  },
  {
   "cell_type": "code",
   "execution_count": null,
   "id": "99fb8dcf",
   "metadata": {},
   "outputs": [],
   "source": []
  }
 ],
 "metadata": {
  "kernelspec": {
   "display_name": "Python 3 (ipykernel)",
   "language": "python",
   "name": "python3"
  },
  "language_info": {
   "codemirror_mode": {
    "name": "ipython",
    "version": 3
   },
   "file_extension": ".py",
   "mimetype": "text/x-python",
   "name": "python",
   "nbconvert_exporter": "python",
   "pygments_lexer": "ipython3",
   "version": "3.8.12"
  }
 },
 "nbformat": 4,
 "nbformat_minor": 5
}
