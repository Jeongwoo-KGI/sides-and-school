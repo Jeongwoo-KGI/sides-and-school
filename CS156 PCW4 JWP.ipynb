{
 "cells": [
  {
   "cell_type": "markdown",
   "id": "2bad020e",
   "metadata": {},
   "source": [
    "## Class Session 4 \n",
    "\n",
    "### Pre-Class Work codes from pcw2 to work with\n",
    "### 1. Moore's Law\n",
    "\n",
    "URL for data[http://preshing.com/files/specdata20120207.zip]\n",
    "\n",
    "check here[https://preshing.com/20120208/a-look-back-at-single-threaded-cpu-performance/] for more information and analysis"
   ]
  },
  {
   "cell_type": "code",
   "execution_count": 2,
   "id": "33a0000d",
   "metadata": {},
   "outputs": [
    {
     "name": "stderr",
     "output_type": "stream",
     "text": [
      "C:\\Users\\green\\anaconda3\\lib\\site-packages\\IPython\\core\\interactiveshell.py:3444: DtypeWarning: Columns (3) have mixed types.Specify dtype option on import or set low_memory=False.\n",
      "  exec(code_obj, self.user_global_ns, self.user_ns)\n"
     ]
    },
    {
     "name": "stdout",
     "output_type": "stream",
     "text": [
      "             date  base\n",
      "0     1999.094444  19.4\n",
      "26    1999.133333  19.5\n",
      "44    1999.144444  35.3\n",
      "54    1999.144444  43.0\n",
      "64    1999.144444  63.9\n",
      "...           ...   ...\n",
      "9258  1998.966667  15.8\n",
      "9268  1998.966667  21.9\n",
      "9318  1999.011111  34.6\n",
      "9344  1999.058333  95.5\n",
      "9354  1999.058333  93.1\n",
      "\n",
      "[542 rows x 2 columns]\n"
     ]
    },
    {
     "name": "stderr",
     "output_type": "stream",
     "text": [
      "C:\\Users\\green\\AppData\\Local\\Temp/ipykernel_29224/1380234837.py:60: FutureWarning: Inferring datetime64[ns] from data containing strings is deprecated and will be removed in a future version. To retain the old behavior explicitly pass Series(data, dtype={value.dtype})\n",
      "  data['date'] = newdate\n"
     ]
    }
   ],
   "source": [
    "#set up the environment\n",
    "import pandas as pd\n",
    "import matplotlib.pyplot as plt\n",
    "import numpy as np\n",
    "import datetime\n",
    "\n",
    "data = pd.read_csv(r'C:\\Users\\green\\Desktop\\benchmarks.txt')\n",
    "dates = []\n",
    "\n",
    "#making date and time (method1)\n",
    "#for i in data['testID']:\n",
    "#    day = i[-14:-6]\n",
    "    #print(day)\n",
    "#    dates.append(day)\n",
    "#data['date'] = dates\n",
    "\n",
    "#method2 of making date and time\n",
    "'''date = data.testID.str.split('-').str[1]\n",
    "for i in range(len(date)):\n",
    "    date[i] = str(date[i])\n",
    "data['date'] = date\n",
    "\n",
    "#fix some notations of the date\n",
    "wrong = []\n",
    "for i in range(len(data.date)):\n",
    "    if len(data.date[i]) != 8:\n",
    "        wrong.append(i)\n",
    "data.dropna(axis=0, how='all', subset=data['date'],inplace = True)\n",
    "for i in wrong:\n",
    "    data.date[i] = '19'+data.date[i]\n",
    "\n",
    "# Benchmark of my choice\n",
    "data = data[data['benchName']=='147.vortex']\n",
    "data.reset_index(drop=True)\n",
    "\n",
    "#drop the un-necessary columns\n",
    "data = data.drop(labels = ['testID','benchName','peak'], axis = 1)\n",
    "\n",
    "for i in range(len(data.date)):\n",
    "    data.date[i] = int(data.date[i])\n",
    "#data show\n",
    "print(data)\n",
    "print(type(data.date[1]))\n",
    "'''\n",
    "\n",
    "import datetime\n",
    "date = data.testID.str.split('-').str[1]\n",
    "newdate = []\n",
    "\n",
    "# Get data, store in a different column.\n",
    "for d in date:\n",
    "    d = str(d)\n",
    "    if(d=='nan'):\n",
    "        newdate.append('nan')\n",
    "        continue\n",
    "    if len(d)<8:\n",
    "        d = '19'+d\n",
    "    newdate.append(datetime.datetime.strptime(d, \"%Y%m%d\"))\n",
    "    \n",
    "data['date'] = newdate\n",
    "data.dropna(axis=0, how='all', subset=['date'], inplace=True)\n",
    "\n",
    "# choose a bench mark to work on\n",
    "data = data[data['benchName']=='101.tomcatv']\n",
    "data.reset_index(drop=True)\n",
    "data = data[['date', 'base']]\n",
    "\n",
    "# Datetime to float, so we can plot the graph\n",
    "\n",
    "def date_to_float(x):\n",
    "    x = str(x)\n",
    "    x = x.split(\" \")[0].split(\"-\")\n",
    "    x = int(x[0])+int(x[1])/12+int(x[2])/360\n",
    "    return x\n",
    "data[\"date\"] = data[\"date\"].apply(date_to_float)\n",
    "\n",
    "# To check if date is updated with the floats.\n",
    "print(data)\n",
    "\n"
   ]
  },
  {
   "cell_type": "code",
   "execution_count": 3,
   "id": "d41392a7",
   "metadata": {},
   "outputs": [
    {
     "data": {
      "image/png": "[encoded data removed]",
      "text/plain": [
       "<Figure size 432x288 with 1 Axes>"
      ]
     },
     "metadata": {
      "needs_background": "light"
     },
     "output_type": "display_data"
    }
   ],
   "source": [
    "#plot the data in a semi-log plot\n",
    "plt.semilogy(data['date'], data['base'], 'o', color = 'orange')\n",
    "plt.xticks(rotation = 60)\n",
    "plt.title('Semilog graph of CPU base performance over time')\n",
    "plt.ylabel('Base performance')\n",
    "plt.show()"
   ]
  },
  {
   "cell_type": "code",
   "execution_count": 1,
   "id": "7c899c06",
   "metadata": {},
   "outputs": [
    {
     "ename": "NameError",
     "evalue": "name 'np' is not defined",
     "output_type": "error",
     "traceback": [
      "\u001b[1;31m---------------------------------------------------------------------------\u001b[0m",
      "\u001b[1;31mNameError\u001b[0m                                 Traceback (most recent call last)",
      "\u001b[1;32m~\\AppData\\Local\\Temp/ipykernel_11676/714064512.py\u001b[0m in \u001b[0;36m<module>\u001b[1;34m\u001b[0m\n\u001b[0;32m      1\u001b[0m \u001b[1;31m#make a regression line\u001b[0m\u001b[1;33m\u001b[0m\u001b[1;33m\u001b[0m\u001b[1;33m\u001b[0m\u001b[0m\n\u001b[1;32m----> 2\u001b[1;33m \u001b[0mm\u001b[0m\u001b[1;33m,\u001b[0m \u001b[0mb\u001b[0m \u001b[1;33m=\u001b[0m \u001b[0mnp\u001b[0m\u001b[1;33m.\u001b[0m\u001b[0mpolyfit\u001b[0m\u001b[1;33m(\u001b[0m\u001b[0mdata\u001b[0m\u001b[1;33m[\u001b[0m\u001b[1;34m'date'\u001b[0m\u001b[1;33m]\u001b[0m\u001b[1;33m,\u001b[0m \u001b[0mdata\u001b[0m\u001b[1;33m[\u001b[0m\u001b[1;34m'base'\u001b[0m\u001b[1;33m]\u001b[0m\u001b[1;33m,\u001b[0m \u001b[1;36m1\u001b[0m\u001b[1;33m)\u001b[0m \u001b[1;31m#this means linear regression, when we want quadratic, change 1 -> 2\u001b[0m\u001b[1;33m\u001b[0m\u001b[1;33m\u001b[0m\u001b[0m\n\u001b[0m\u001b[0;32m      3\u001b[0m \u001b[0mplt\u001b[0m\u001b[1;33m.\u001b[0m\u001b[0msemilogy\u001b[0m\u001b[1;33m(\u001b[0m\u001b[0mdata\u001b[0m\u001b[1;33m[\u001b[0m\u001b[1;34m'date'\u001b[0m\u001b[1;33m]\u001b[0m\u001b[1;33m,\u001b[0m \u001b[0mdata\u001b[0m\u001b[1;33m[\u001b[0m\u001b[1;34m'base'\u001b[0m\u001b[1;33m]\u001b[0m\u001b[1;33m,\u001b[0m \u001b[1;34m'o'\u001b[0m\u001b[1;33m,\u001b[0m \u001b[0mcolor\u001b[0m \u001b[1;33m=\u001b[0m \u001b[1;34m'orange'\u001b[0m\u001b[1;33m)\u001b[0m\u001b[1;33m\u001b[0m\u001b[1;33m\u001b[0m\u001b[0m\n\u001b[0;32m      4\u001b[0m \u001b[0mplt\u001b[0m\u001b[1;33m.\u001b[0m\u001b[0msemilogy\u001b[0m\u001b[1;33m(\u001b[0m\u001b[0mdata\u001b[0m\u001b[1;33m[\u001b[0m\u001b[1;34m'date'\u001b[0m\u001b[1;33m]\u001b[0m\u001b[1;33m,\u001b[0m \u001b[0mm\u001b[0m\u001b[1;33m*\u001b[0m\u001b[0mdata\u001b[0m\u001b[1;33m[\u001b[0m\u001b[1;34m'date'\u001b[0m\u001b[1;33m]\u001b[0m\u001b[1;33m+\u001b[0m\u001b[0mb\u001b[0m\u001b[1;33m,\u001b[0m \u001b[0mcolor\u001b[0m \u001b[1;33m=\u001b[0m \u001b[1;34m'blue'\u001b[0m\u001b[1;33m)\u001b[0m\u001b[1;33m\u001b[0m\u001b[1;33m\u001b[0m\u001b[0m\n\u001b[0;32m      5\u001b[0m \u001b[0mplt\u001b[0m\u001b[1;33m.\u001b[0m\u001b[0mshow\u001b[0m\u001b[1;33m(\u001b[0m\u001b[1;33m)\u001b[0m\u001b[1;33m\u001b[0m\u001b[1;33m\u001b[0m\u001b[0m\n",
      "\u001b[1;31mNameError\u001b[0m: name 'np' is not defined"
     ]
    }
   ],
   "source": [
    "#make a regression line\n",
    "m, b = np.polyfit(data['date'], data['base'], 1) #this means linear regression, when we want quadratic, change 1 -> 2\n",
    "plt.semilogy(data['date'], data['base'], 'o', color = 'orange')\n",
    "plt.semilogy(data['date'], m*data['date']+b, color = 'blue')\n",
    "plt.show()\n",
    "print(\"Annual rise in CPU power: \", str(m))\n",
    "print(m,b)\n",
    "#or\n",
    "#from sklearn.linear_model import LinearRegression \n",
    "#from numpy import array\n"
   ]
  },
  {
   "cell_type": "markdown",
   "id": "4149ea2d",
   "metadata": {},
   "source": [
    "According to the graph, we can see that the speed of cpu is getting faster and faster. And from the regression, it seems that the power of CPU is rising by around 14 every year."
   ]
  },
  {
   "cell_type": "code",
   "execution_count": 16,
   "id": "15cd3767",
   "metadata": {},
   "outputs": [
    {
     "name": "stdout",
     "output_type": "stream",
     "text": [
      "coeffs:  [-5.06877392e-15  1.00000000e+00]\n",
      "MSE :  2.968089155894057e-28\n",
      "median absolute error :  7.105427357601002e-15\n",
      "r2:  1.0\n",
      "mean absolute error:  1.1146639167236572e-14\n"
     ]
    }
   ],
   "source": [
    "import sklearn.metrics as met\n",
    "from sklearn import datasets, linear_model\n",
    "from sklearn.model_selection import train_test_split\n",
    "\n",
    "testData_x = data[-20:]\n",
    "trainData_x = data[:-20]\n",
    "testData_y = data['base'][-20:]\n",
    "trainData_y = data['base'][:-20]\n",
    "\n",
    "regr = linear_model.LinearRegression()\n",
    "regr.fit(trainData_x, trainData_y)\n",
    "prediction = regr.predict(testData_x)\n",
    "print(\"coeffs: \", regr.coef_)\n",
    "print(\"MSE : \", met.mean_squared_error(testData_y, prediction))\n",
    "print(\"median absolute error : \", met.median_absolute_error(testData_y, prediction))\n",
    "print(\"r2: \", met.r2_score(testData_y, prediction))\n",
    "print(\"mean absolute error: \", met.mean_absolute_error(testData_y, prediction))"
   ]
  },
  {
   "cell_type": "markdown",
   "id": "2335532c",
   "metadata": {},
   "source": [
    "### MNIST Digits"
   ]
  },
  {
   "cell_type": "code",
   "execution_count": 20,
   "id": "62085033",
   "metadata": {},
   "outputs": [
    {
     "name": "stdout",
     "output_type": "stream",
     "text": [
      "(1797, 64)\n"
     ]
    },
    {
     "data": {
      "image/png": "[encoded data removed]",
      "text/plain": [
       "<Figure size 720x216 with 10 Axes>"
      ]
     },
     "metadata": {
      "needs_background": "light"
     },
     "output_type": "display_data"
    }
   ],
   "source": [
    "#add more environments for the new task\n",
    "from sklearn.datasets import load_digits\n",
    "import pprint\n",
    "from IPython.display import display, HTML\n",
    "from sklearn.neighbors import KNeighborsClassifier\n",
    "from sklearn.metrics import classification_report\n",
    "from sklearn.model_selection import train_test_split\n",
    "\n",
    "digits = load_digits()\n",
    "print(digits.data.shape)\n",
    "\n",
    "\n",
    "import matplotlib.pyplot as plt\n",
    "_, axes = plt.subplots(nrows=1, ncols=10, figsize=(10, 3))\n",
    "for ax, image, label in zip(axes, digits.images, digits.target):\n",
    "    ax.set_axis_off()\n",
    "    ax.imshow(image, cmap=plt.cm.gray_r, interpolation='nearest')\n",
    "    ax.set_title('Training: %i' % label)\n",
    "    "
   ]
  },
  {
   "cell_type": "code",
   "execution_count": 4,
   "id": "40719696",
   "metadata": {},
   "outputs": [
    {
     "name": "stdout",
     "output_type": "stream",
     "text": [
      "[[ 0.  0.  5. ...  0.  0.  0.]\n",
      " [ 0.  0.  0. ... 10.  0.  0.]\n",
      " [ 0.  0.  0. ... 16.  9.  0.]\n",
      " ...\n",
      " [ 0.  0.  1. ...  6.  0.  0.]\n",
      " [ 0.  0.  2. ... 12.  0.  0.]\n",
      " [ 0.  0. 10. ... 12.  1.  0.]]\n",
      "[0 1 2 ... 8 9 8]\n",
      "(1797,)\n",
      "{'data': array([[ 0.,  0.,  5., ...,  0.,  0.,  0.],\n",
      "       [ 0.,  0.,  0., ..., 10.,  0.,  0.],\n",
      "       [ 0.,  0.,  0., ..., 16.,  9.,  0.],\n",
      "       ...,\n",
      "       [ 0.,  0.,  1., ...,  6.,  0.,  0.],\n",
      "       [ 0.,  0.,  2., ..., 12.,  0.,  0.],\n",
      "       [ 0.,  0., 10., ..., 12.,  1.,  0.]]), 'target': array([0, 1, 2, ..., 8, 9, 8]), 'frame': None, 'feature_names': ['pixel_0_0', 'pixel_0_1', 'pixel_0_2', 'pixel_0_3', 'pixel_0_4', 'pixel_0_5', 'pixel_0_6', 'pixel_0_7', 'pixel_1_0', 'pixel_1_1', 'pixel_1_2', 'pixel_1_3', 'pixel_1_4', 'pixel_1_5', 'pixel_1_6', 'pixel_1_7', 'pixel_2_0', 'pixel_2_1', 'pixel_2_2', 'pixel_2_3', 'pixel_2_4', 'pixel_2_5', 'pixel_2_6', 'pixel_2_7', 'pixel_3_0', 'pixel_3_1', 'pixel_3_2', 'pixel_3_3', 'pixel_3_4', 'pixel_3_5', 'pixel_3_6', 'pixel_3_7', 'pixel_4_0', 'pixel_4_1', 'pixel_4_2', 'pixel_4_3', 'pixel_4_4', 'pixel_4_5', 'pixel_4_6', 'pixel_4_7', 'pixel_5_0', 'pixel_5_1', 'pixel_5_2', 'pixel_5_3', 'pixel_5_4', 'pixel_5_5', 'pixel_5_6', 'pixel_5_7', 'pixel_6_0', 'pixel_6_1', 'pixel_6_2', 'pixel_6_3', 'pixel_6_4', 'pixel_6_5', 'pixel_6_6', 'pixel_6_7', 'pixel_7_0', 'pixel_7_1', 'pixel_7_2', 'pixel_7_3', 'pixel_7_4', 'pixel_7_5', 'pixel_7_6', 'pixel_7_7'], 'target_names': array([0, 1, 2, 3, 4, 5, 6, 7, 8, 9]), 'images': array([[[ 0.,  0.,  5., ...,  1.,  0.,  0.],\n",
      "        [ 0.,  0., 13., ..., 15.,  5.,  0.],\n",
      "        [ 0.,  3., 15., ..., 11.,  8.,  0.],\n",
      "        ...,\n",
      "        [ 0.,  4., 11., ..., 12.,  7.,  0.],\n",
      "        [ 0.,  2., 14., ..., 12.,  0.,  0.],\n",
      "        [ 0.,  0.,  6., ...,  0.,  0.,  0.]],\n",
      "\n",
      "       [[ 0.,  0.,  0., ...,  5.,  0.,  0.],\n",
      "        [ 0.,  0.,  0., ...,  9.,  0.,  0.],\n",
      "        [ 0.,  0.,  3., ...,  6.,  0.,  0.],\n",
      "        ...,\n",
      "        [ 0.,  0.,  1., ...,  6.,  0.,  0.],\n",
      "        [ 0.,  0.,  1., ...,  6.,  0.,  0.],\n",
      "        [ 0.,  0.,  0., ..., 10.,  0.,  0.]],\n",
      "\n",
      "       [[ 0.,  0.,  0., ..., 12.,  0.,  0.],\n",
      "        [ 0.,  0.,  3., ..., 14.,  0.,  0.],\n",
      "        [ 0.,  0.,  8., ..., 16.,  0.,  0.],\n",
      "        ...,\n",
      "        [ 0.,  9., 16., ...,  0.,  0.,  0.],\n",
      "        [ 0.,  3., 13., ..., 11.,  5.,  0.],\n",
      "        [ 0.,  0.,  0., ..., 16.,  9.,  0.]],\n",
      "\n",
      "       ...,\n",
      "\n",
      "       [[ 0.,  0.,  1., ...,  1.,  0.,  0.],\n",
      "        [ 0.,  0., 13., ...,  2.,  1.,  0.],\n",
      "        [ 0.,  0., 16., ..., 16.,  5.,  0.],\n",
      "        ...,\n",
      "        [ 0.,  0., 16., ..., 15.,  0.,  0.],\n",
      "        [ 0.,  0., 15., ..., 16.,  0.,  0.],\n",
      "        [ 0.,  0.,  2., ...,  6.,  0.,  0.]],\n",
      "\n",
      "       [[ 0.,  0.,  2., ...,  0.,  0.,  0.],\n",
      "        [ 0.,  0., 14., ..., 15.,  1.,  0.],\n",
      "        [ 0.,  4., 16., ..., 16.,  7.,  0.],\n",
      "        ...,\n",
      "        [ 0.,  0.,  0., ..., 16.,  2.,  0.],\n",
      "        [ 0.,  0.,  4., ..., 16.,  2.,  0.],\n",
      "        [ 0.,  0.,  5., ..., 12.,  0.,  0.]],\n",
      "\n",
      "       [[ 0.,  0., 10., ...,  1.,  0.,  0.],\n",
      "        [ 0.,  2., 16., ...,  1.,  0.,  0.],\n",
      "        [ 0.,  0., 15., ..., 15.,  0.,  0.],\n",
      "        ...,\n",
      "        [ 0.,  4., 16., ..., 16.,  6.,  0.],\n",
      "        [ 0.,  8., 16., ..., 16.,  8.,  0.],\n",
      "        [ 0.,  1.,  8., ..., 12.,  1.,  0.]]]), 'DESCR': \".. _digits_dataset:\\n\\nOptical recognition of handwritten digits dataset\\n--------------------------------------------------\\n\\n**Data Set Characteristics:**\\n\\n    :Number of Instances: 1797\\n    :Number of Attributes: 64\\n    :Attribute Information: 8x8 image of integer pixels in the range 0..16.\\n    :Missing Attribute Values: None\\n    :Creator: E. Alpaydin (alpaydin '@' boun.edu.tr)\\n    :Date: July; 1998\\n\\nThis is a copy of the test set of the UCI ML hand-written digits datasets\\nhttps://archive.ics.uci.edu/ml/datasets/Optical+Recognition+of+Handwritten+Digits\\n\\nThe data set contains images of hand-written digits: 10 classes where\\neach class refers to a digit.\\n\\nPreprocessing programs made available by NIST were used to extract\\nnormalized bitmaps of handwritten digits from a preprinted form. From a\\ntotal of 43 people, 30 contributed to the training set and different 13\\nto the test set. 32x32 bitmaps are divided into nonoverlapping blocks of\\n4x4 and the number of on pixels are counted in each block. This generates\\nan input matrix of 8x8 where each element is an integer in the range\\n0..16. This reduces dimensionality and gives invariance to small\\ndistortions.\\n\\nFor info on NIST preprocessing routines, see M. D. Garris, J. L. Blue, G.\\nT. Candela, D. L. Dimmick, J. Geist, P. J. Grother, S. A. Janet, and C.\\nL. Wilson, NIST Form-Based Handprint Recognition System, NISTIR 5469,\\n1994.\\n\\n.. topic:: References\\n\\n  - C. Kaynak (1995) Methods of Combining Multiple Classifiers and Their\\n    Applications to Handwritten Digit Recognition, MSc Thesis, Institute of\\n    Graduate Studies in Science and Engineering, Bogazici University.\\n  - E. Alpaydin, C. Kaynak (1998) Cascading Classifiers, Kybernetika.\\n  - Ken Tang and Ponnuthurai N. Suganthan and Xi Yao and A. Kai Qin.\\n    Linear dimensionalityreduction using relevance weighted LDA. School of\\n    Electrical and Electronic Engineering Nanyang Technological University.\\n    2005.\\n  - Claudio Gentile. A New Approximate Maximal Margin Classification\\n    Algorithm. NIPS. 2000.\\n\"}\n"
     ]
    }
   ],
   "source": [
    "print(digits.data)\n",
    "print(digits.target)\n",
    "print(digits.target.shape)\n",
    "print(digits)"
   ]
  },
  {
   "cell_type": "code",
   "execution_count": 30,
   "id": "e9a4acbc",
   "metadata": {},
   "outputs": [
    {
     "name": "stdout",
     "output_type": "stream",
     "text": [
      "[[ 0.  0. 10. 16.  5.  0.  0.  0.  0.  1. 10. 14. 12.  0.  0.  0.  0.  0.\n",
      "   0.  9. 11.  0.  0.  0.  0.  0.  2. 11. 13.  3.  0.  0.  0.  0. 11. 16.\n",
      "  16. 16.  7.  0.  0.  0.  3. 16.  4.  5.  1.  0.  0.  0.  7. 13.  0.  0.\n",
      "   0.  0.  0.  0. 13.  6.  0.  0.  0.  0.]\n",
      " [ 0.  0.  3. 11. 13. 15.  3.  0.  0.  4. 16. 14. 11. 16.  8.  0.  0.  2.\n",
      "   5.  0. 14. 15.  1.  0.  0.  0.  0.  0. 16. 11.  0.  0.  0.  0.  0.  0.\n",
      "  11. 10.  0.  0.  0.  0.  0.  0.  8. 12.  0.  0.  0.  0.  8. 11. 15.  8.\n",
      "   0.  0.  0.  0.  2. 12. 14.  3.  0.  0.]\n",
      " [ 0.  0.  3. 15.  4.  0.  0.  0.  0.  0.  0. 15. 11.  0.  0.  0.  0.  0.\n",
      "   0. 15. 16.  2.  0.  0.  0.  0.  0. 14. 16.  8.  0.  0.  0.  0.  0.  7.\n",
      "  13. 14.  0.  0.  0.  0.  0.  0.  4. 16.  4.  0.  0.  0.  3.  9. 13. 16.\n",
      "  12.  5.  0.  0.  3. 15. 16. 16. 16. 16.]\n",
      " [ 0.  0.  3. 15. 13.  2.  0.  0.  0.  0. 10. 16. 12. 13.  0.  0.  0.  0.\n",
      "  13. 13.  9. 14.  0.  0.  0.  0.  6. 15. 15. 11.  0.  0.  0.  0.  4. 16.\n",
      "  14.  1.  0.  0.  0.  0. 11. 14. 15.  5.  0.  0.  0.  0.  9. 10. 14.  9.\n",
      "   0.  0.  0.  0.  4. 16. 15.  2.  0.  0.]\n",
      " [ 0.  0.  1. 12. 16. 16. 12.  0.  0.  0.  7. 16. 11. 12.  9.  0.  0.  0.\n",
      "   6.  7.  0. 14.  4.  0.  0.  0.  0.  0.  6. 16.  3.  0.  0.  0.  0. 10.\n",
      "  16. 16.  9.  0.  0.  0.  0.  8. 15.  5.  0.  0.  0.  0.  0.  8. 10.  0.\n",
      "   0.  0.  0.  0.  0. 16.  5.  0.  0.  0.]]\n",
      "[7 3 1 8 7]\n",
      "              precision    recall  f1-score   support\n",
      "\n",
      "           0       0.98      1.00      0.99        51\n",
      "           1       0.88      1.00      0.93        42\n",
      "           2       1.00      0.93      0.96        41\n",
      "           3       0.95      1.00      0.98        40\n",
      "           4       0.98      0.94      0.96        52\n",
      "           5       1.00      0.92      0.96        48\n",
      "           6       0.98      0.98      0.98        48\n",
      "           7       0.89      1.00      0.94        41\n",
      "           8       0.95      0.89      0.92        45\n",
      "           9       0.93      0.88      0.90        42\n",
      "\n",
      "    accuracy                           0.95       450\n",
      "   macro avg       0.95      0.95      0.95       450\n",
      "weighted avg       0.96      0.95      0.95       450\n",
      "\n",
      "450\n",
      "450\n"
     ]
    }
   ],
   "source": [
    "X = digits.data \n",
    "y = digits.target\n",
    "trainData,testData,trainLabel,testLabel = train_test_split(X, y, test_size=0.25, random_state=123)\n",
    "print(trainData[:5])\n",
    "print(trainLabel[:5])\n",
    "#model = KNeighborsClassifier(n_neighbors=5) #just to give it a try\n",
    "#but this may not be appropriate, depending on how the data will be plotted as the reading said.(it may overfit)\n",
    "#model.fit(trainData,trainLabel)\n",
    "#predictions = model.predict(testData)\n",
    "#print(classification_report(testLabel,predictions))\n",
    "\n",
    "#from Google, I've found the good guess for k = sqrt(total number of training data)\n",
    "model = KNeighborsClassifier(n_neighbors=42) #sqrt(1797) is about 42.4 But, with the given training, 5 works well too. \n",
    "model.fit(trainData,trainLabel)\n",
    "predictions = model.predict(testData)\n",
    "print(classification_report(testLabel,predictions)) #has precision and recall\n",
    "#print(len(predictions))\n",
    "#print(len(testLabel))"
   ]
  },
  {
   "cell_type": "code",
   "execution_count": 32,
   "id": "75d8a6f4",
   "metadata": {},
   "outputs": [
    {
     "name": "stdout",
     "output_type": "stream",
     "text": [
      "accuracy score :  0.9533333333333334\n",
      "confusion matrix:  [[51  0  0  0  0  0  0  0  0  0]\n",
      " [ 0 42  0  0  0  0  0  0  0  0]\n",
      " [ 0  0 38  0  0  0  0  2  1  0]\n",
      " [ 0  0  0 40  0  0  0  0  0  0]\n",
      " [ 0  1  0  0 49  0  0  1  1  0]\n",
      " [ 0  0  0  0  1 44  0  0  0  3]\n",
      " [ 1  0  0  0  0  0 47  0  0  0]\n",
      " [ 0  0  0  0  0  0  0 41  0  0]\n",
      " [ 0  3  0  1  0  0  1  0 40  0]\n",
      " [ 0  2  0  1  0  0  0  2  0 37]]\n"
     ]
    }
   ],
   "source": [
    "print(\"accuracy score : \", met.accuracy_score(testLabel, predictions))\n",
    "print(\"confusion matrix: \", met.confusion_matrix(testLabel, predictions))"
   ]
  },
  {
   "cell_type": "markdown",
   "id": "d2964e7e",
   "metadata": {},
   "source": [
    "Error rate = 1- accuracy. (from up above, it is 5% when k =42, 2% when k = 5)\n",
    "\n",
    "precision = true positive/spotted positive\n",
    "\n",
    "recall = true positive/actually positive\n",
    "\n",
    "f1 score = harmonic mean of the precision and recall = true positive/(true positive + (1/2)(False positive + False negative))"
   ]
  },
  {
   "cell_type": "markdown",
   "id": "98a446b9",
   "metadata": {},
   "source": [
    "### (Optional) Try test the model on the full dataset. "
   ]
  },
  {
   "cell_type": "code",
   "execution_count": null,
   "id": "d01603ca",
   "metadata": {},
   "outputs": [],
   "source": [
    "import gzip\n"
   ]
  }
 ],
 "metadata": {
  "kernelspec": {
   "display_name": "Python 3 (ipykernel)",
   "language": "python",
   "name": "python3"
  },
  "language_info": {
   "codemirror_mode": {
    "name": "ipython",
    "version": 3
   },
   "file_extension": ".py",
   "mimetype": "text/x-python",
   "name": "python",
   "nbconvert_exporter": "python",
   "pygments_lexer": "ipython3",
   "version": "3.8.12"
  }
 },
 "nbformat": 4,
 "nbformat_minor": 5
}
