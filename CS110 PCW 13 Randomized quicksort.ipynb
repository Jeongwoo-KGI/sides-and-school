{
 "cells": [
  {
   "cell_type": "markdown",
   "metadata": {},
   "source": [
    "Before you turn this problem in, make sure everything runs as expected. First, **restart the kernel** (in the menubar, select Kernel$\\rightarrow$Restart) and then **run all cells** (in the menubar, select Cell$\\rightarrow$Run All).\n",
    "\n",
    "Note that this Pre-class Work is estimated to take **44 minutes**.\n",
    "\n",
    "Make sure you fill in any place that says `YOUR CODE HERE` or \"YOUR ANSWER HERE\", as well as your name and collaborators below:"
   ]
  },
  {
   "cell_type": "code",
   "execution_count": null,
   "metadata": {},
   "outputs": [],
   "source": [
    "NAME = \"Jeong woo Park\"\n",
    "COLLABORATORS = \"\""
   ]
  },
  {
   "cell_type": "markdown",
   "metadata": {},
   "source": [
    "---"
   ]
  },
  {
   "cell_type": "markdown",
   "metadata": {
    "deletable": false,
    "nbgrader": {
     "checksum": "a2025a945eae66ffac9bc4836ac511db",
     "grade": false,
     "grade_id": "cell-f534ec91df9dff5f",
     "locked": true,
     "schema_version": 1,
     "solution": false
    }
   },
   "source": [
    "# CS110 Pre-class Work - Randomized quicksort\n",
    "\n",
    "## Part A. Median-of-3 partitioning quicksort \n",
    "\n",
    "## Question 1 [time estimate: 10 minutes]\n",
    "\n",
    "Read through the following Python code. What does each function (i.e., median, qsort, randomized_qsort, test_qsort) do? Comment in details each function. \n"
   ]
  },
  {
   "cell_type": "code",
   "execution_count": 2,
   "metadata": {},
   "outputs": [
    {
     "name": "stdout",
     "output_type": "stream",
     "text": [
      "0.054490100000009534\n"
     ]
    }
   ],
   "source": [
    "import timeit\n",
    "import random\n",
    "\n",
    "eps = 1e-16\n",
    "N = 10000\n",
    "locations = [0.0, 0.5, 1.0 - eps]\n",
    "\n",
    "#Median function : from 3 input, find the median\n",
    "def median(x1, x2, x3): \n",
    "    if (x1 < x2 < x3) or (x3 < x2 < x1):\n",
    "        return x2\n",
    "    elif (x1 < x3 < x2) or (x2 < x3 < x1):\n",
    "        return x3\n",
    "    else:\n",
    "        return x1\n",
    "    \n",
    "#qsort function: deterministic quicksort function by having the median value of first, last, middle value of the list as a partition\n",
    "def qsort(lst):\n",
    "    indices = [(0, len(lst))]\n",
    "\n",
    "    #without having a recursive form, this function uses while loop to sort\n",
    "    while indices:\n",
    "        (frm, to) = indices.pop()\n",
    "        if frm == to:\n",
    "            continue\n",
    "\n",
    "        # Find the partition:\n",
    "        N = to - frm\n",
    "        inds = [frm + int(N * n) for n in locations]\n",
    "        values = [lst[ind] for ind in inds]\n",
    "        partition = median(*values)\n",
    "\n",
    "        # Split into lists:\n",
    "        lower = [a for a in lst[frm:to] if a < partition]\n",
    "        upper = [a for a in lst[frm:to] if a > partition]\n",
    "        counts = sum([1 for a in lst[frm:to] if a == partition])\n",
    "\n",
    "        ind1 = frm + len(lower)\n",
    "        ind2 = ind1 + counts\n",
    "\n",
    "        # Push back into correct place:\n",
    "        lst[frm:ind1] = lower\n",
    "        lst[ind1:ind2] = [partition] * counts\n",
    "        lst[ind2:to] = upper\n",
    "\n",
    "        # Enqueue other locations\n",
    "        indices.append((frm, ind1))\n",
    "        indices.append((ind2, to))\n",
    "    return lst\n",
    "\n",
    "#randomized quicksort function: this function uses above quicksort function after making a random list of size N(declared as 10000)\n",
    "def randomized_quicksort():\n",
    "    lst = [i for i in range(N)]\n",
    "    random.shuffle(lst)\n",
    "    return qsort(lst)\n",
    "\n",
    "#test quicksort function: check if it is well sorted\n",
    "def test_quicksort():\n",
    "    lst = randomized_quicksort()\n",
    "    assert (lst == [i for i in range(N)])\n",
    "\n",
    "\n",
    "# Is our algorithm correct\n",
    "test_quicksort()\n",
    "\n",
    "# How fast is our algorithm\n",
    "print(timeit.timeit(randomized_quicksort, number=1))"
   ]
  },
  {
   "cell_type": "markdown",
   "metadata": {
    "deletable": false,
    "editable": false,
    "nbgrader": {
     "checksum": "61fb11bff1434e4b7276c7443b0267c6",
     "grade": false,
     "grade_id": "cell-a2b2429aa4e81403",
     "locked": true,
     "schema_version": 1,
     "solution": false
    }
   },
   "source": [
    "## Question 2 [time estimate: 3 minutes]\n",
    "\n",
    "What are the main differences between the `randomized_quicksort` in the code and $RANDOMIZED-QUICKSORT$ in Cormen et al., besides that the partition of `randomized_quicksort` uses a median of 3 as a pivot?"
   ]
  },
  {
   "cell_type": "markdown",
   "metadata": {
    "deletable": false,
    "nbgrader": {
     "checksum": "8915b75d94bc194ba0f4e52e475063b4",
     "grade": true,
     "grade_id": "cell-4a3cd727ccac7404",
     "locked": false,
     "points": 0,
     "schema_version": 1,
     "solution": true
    }
   },
   "source": [
    "There are two ways of making the partition element random. 1. choose a random element in the first place. 2. make the list randomly shuffled to make the element that comes to the chosen(stable place) for being a partition, from the last pcw, by shuffling the whole list the last element of the list will also be 'random' so, having the same effect as choosing the element randomly. \n",
    "\n",
    "Main difference is that the given qsort function is still deterministic. What I mean is that book is using way 1 stated above, and this code uses way 2. The randomness is only applied when shuffling the generated(sorted) list of size N. So, basically, the difference is that this function does not choose the pivot randomly (as the Cormen et al stated in chpt 7.3). But it is made 'random' by mixing the list elements. So, instead of choosing a random element index, we are choosing a random number that is a median of 3 values of 3 set places(front, last, middle)."
   ]
  },
  {
   "cell_type": "markdown",
   "metadata": {
    "deletable": false,
    "editable": false,
    "nbgrader": {
     "checksum": "5853f10cab01212736d0e92ce408fa97",
     "grade": false,
     "grade_id": "cell-49bff57d4018e133",
     "locked": true,
     "schema_version": 1,
     "solution": false
    }
   },
   "source": [
    "## Question 3 [time estimate: 10 minutes]\n",
    "\n",
    "What is the time complexity of this `randomized_qsort`? Time the algorithm on lists of various lengths, each list being a list of the first $n$ consecutive positive integers. Produce a graph with list lengths on the x axis and running time on the y axis. As always, don’t forget to time the algorithm several times for each list’s length and then average the results. "
   ]
  },
  {
   "cell_type": "code",
   "execution_count": 13,
   "metadata": {
    "deletable": false,
    "nbgrader": {
     "checksum": "a321a7fcecb9c9cce252ea2c6030d4ce",
     "grade": true,
     "grade_id": "cell-e0e1dac71ac7feb6",
     "locked": false,
     "points": 0,
     "schema_version": 1,
     "solution": true
    }
   },
   "outputs": [
    {
     "data": {
      "image/png": "[encoded data removed]",
      "text/plain": [
       "<Figure size 432x288 with 1 Axes>"
      ]
     },
     "metadata": {
      "needs_background": "light"
     },
     "output_type": "display_data"
    }
   ],
   "source": [
    "import matplotlib.pyplot as plt\n",
    "import numpy as np\n",
    "\n",
    "x = np.linspace(1,10000)\n",
    "plt.xlabel(\"length of list\")\n",
    "plt.ylabel(\"running time\")\n",
    "\n",
    "y = []\n",
    "for i in x:\n",
    "    N = int(i)\n",
    "    a = timeit.timeit(randomized_quicksort, number = 1)\n",
    "    b = timeit.timeit(randomized_quicksort, number = 1)\n",
    "    c = timeit.timeit(randomized_quicksort, number = 1)\n",
    "    y.append((a+b+c)/3)\n",
    "\n",
    "plt.plot(x, y, label = \"random_qsort\")\n",
    "plt.plot(x,0.000006*x, label = \"line\")\n",
    "plt.legend()\n",
    "\n",
    "plt.show()"
   ]
  },
  {
   "cell_type": "markdown",
   "metadata": {},
   "source": [
    "The graph looks pretty linear. However, according to the reading, not-the-worst-case scenario of quicksort should have time complexity of O(nlogn). I think what ever random shuffle the list makes, the function is likely to choose good enough value for a partition to (almost) evenly split the list and sort through."
   ]
  },
  {
   "cell_type": "markdown",
   "metadata": {
    "deletable": false,
    "editable": false,
    "nbgrader": {
     "checksum": "b8751f930d9dc208113425646ea7fea8",
     "grade": false,
     "grade_id": "cell-1e8309c07c2f2908",
     "locked": true,
     "schema_version": 1,
     "solution": false
    }
   },
   "source": [
    "## Question 4.\n",
    "\n",
    "### Question 4a [time estimate: 7 minutes]\n",
    "\n",
    "Change the `qsort()` function in a way that you **don’t** separate the items that are equal to the partition. \n"
   ]
  },
  {
   "cell_type": "code",
   "execution_count": 47,
   "metadata": {
    "deletable": false,
    "nbgrader": {
     "checksum": "797888f53fa36bcf0f9d891c4819d8e9",
     "grade": false,
     "grade_id": "cell-a9d1f063c0340b14",
     "locked": false,
     "schema_version": 1,
     "solution": true
    }
   },
   "outputs": [],
   "source": [
    "eps = 1e-16\n",
    "N = 10000\n",
    "locations = [0.0, 0.5, 1.0 - eps]\n",
    "\n",
    "#Median function : from 3 input, find the median\n",
    "def median(x1, x2, x3): \n",
    "    if (x1 < x2 < x3) or (x3 < x2 < x1):\n",
    "        return x2\n",
    "    elif (x1 < x3 < x2) or (x2 < x3 < x1):\n",
    "        return x3\n",
    "    else:\n",
    "        return x1\n",
    "    \n",
    "\n",
    "def qsort(lst):\n",
    "    indices = [(0, len(lst))]\n",
    "\n",
    "    #without having a recursive form, this function uses while loop to sort\n",
    "    while indices:\n",
    "        (frm, to) = indices.pop()\n",
    "        if frm == to:\n",
    "            continue\n",
    "\n",
    "        # Find the partition:\n",
    "        N = to - frm\n",
    "        inds = [frm + int(N * n) for n in locations]\n",
    "        values = [lst[ind] for ind in inds]\n",
    "        partition = median(*values)\n",
    "\n",
    "        # Split into lists:\n",
    "        lower = [a for a in lst[frm:to] if a < partition]\n",
    "        upper = [a for a in lst[frm:to] if a > partition]\n",
    "        \n",
    "        ind1 = frm + len(lower)\n",
    "\n",
    "        # Push back into correct place:\n",
    "        lst[frm:ind1] = lower\n",
    "        lst[ind1] = partition\n",
    "        lst[ind1+1:to] = upper\n",
    "\n",
    "        # Enqueue other locations\n",
    "        indices.append((frm, ind1))\n",
    "        indices.append((ind1+1, to))\n",
    "        \n",
    "    return lst\n"
   ]
  },
  {
   "cell_type": "code",
   "execution_count": 43,
   "metadata": {
    "deletable": false,
    "editable": false,
    "nbgrader": {
     "checksum": "ce755b787f1b82629d627d2f8bea66a5",
     "grade": true,
     "grade_id": "cell-2c0cbd296d612f85",
     "locked": true,
     "points": 1,
     "schema_version": 1,
     "solution": false
    }
   },
   "outputs": [],
   "source": [
    "assert(qsort([4,2,1])==[1,2,4])\n",
    "assert(qsort([0])==[0])"
   ]
  },
  {
   "cell_type": "markdown",
   "metadata": {
    "deletable": false,
    "editable": false,
    "nbgrader": {
     "checksum": "3f5f9ca976fb636978e2bdfda98a5eeb",
     "grade": false,
     "grade_id": "cell-76883a453f020d72",
     "locked": true,
     "schema_version": 1,
     "solution": false
    }
   },
   "source": [
    "### Question 4b [time estimate: 3 minutes]\n",
    "\n",
    "Now time the algorithm on the same inputs you have used in question 3, adding one more line in the previous graph you have produced. "
   ]
  },
  {
   "cell_type": "code",
   "execution_count": 48,
   "metadata": {
    "deletable": false,
    "nbgrader": {
     "checksum": "33188fb282e53d117dfe275067ad3567",
     "grade": true,
     "grade_id": "cell-31ee807cec9ce8bf",
     "locked": false,
     "points": 0,
     "schema_version": 1,
     "solution": true
    }
   },
   "outputs": [
    {
     "data": {
      "image/png": "[encoded data removed]",
      "text/plain": [
       "<Figure size 432x288 with 1 Axes>"
      ]
     },
     "metadata": {
      "needs_background": "light"
     },
     "output_type": "display_data"
    }
   ],
   "source": [
    "import matplotlib.pyplot as plt\n",
    "import numpy as np\n",
    "\n",
    "x = np.linspace(1,10000)\n",
    "plt.xlabel(\"length of list\")\n",
    "plt.ylabel(\"running time\")\n",
    "\n",
    "y = []\n",
    "for i in x:\n",
    "    N = int(i)\n",
    "    a = timeit.timeit(randomized_quicksort, number = 1)\n",
    "    b = timeit.timeit(randomized_quicksort, number = 1)\n",
    "    c = timeit.timeit(randomized_quicksort, number = 1)\n",
    "    y.append((a+b+c)/3)\n",
    "\n",
    "plt.plot(x, y, label = \"4a_qsort\")\n",
    "plt.plot(x,0.000004*x, label = \"line\")\n",
    "plt.plot(x, 0.000006*x, label = \"original compare line\")\n",
    "plt.legend()\n",
    "\n",
    "plt.show()"
   ]
  },
  {
   "cell_type": "markdown",
   "metadata": {
    "deletable": false,
    "editable": false,
    "nbgrader": {
     "checksum": "991ee87c525d8fa29bd448aa80dbf243",
     "grade": false,
     "grade_id": "cell-b666e68e84dfce03",
     "locked": true,
     "schema_version": 1,
     "solution": false
    }
   },
   "source": [
    "## Question 5.\n",
    "\n",
    "### Question 5a [time estimate: 3 minutes]\n",
    "\n",
    "Remove the median-of-3 partitioning, and just use the first element in the array. "
   ]
  },
  {
   "cell_type": "code",
   "execution_count": 49,
   "metadata": {
    "deletable": false,
    "nbgrader": {
     "checksum": "90dbb100f881a2c9a61720a0753ca401",
     "grade": false,
     "grade_id": "cell-4daf36021c15eaf0",
     "locked": false,
     "schema_version": 1,
     "solution": true
    }
   },
   "outputs": [],
   "source": [
    "def qsort(lst):\n",
    "    indices = [(0, len(lst))]\n",
    "\n",
    "    #without having a recursive form, this function uses while loop to sort\n",
    "    while indices:\n",
    "        (frm, to) = indices.pop()\n",
    "        if frm == to:\n",
    "            continue\n",
    "\n",
    "        partition = lst[0]\n",
    "\n",
    "        # Split into lists:\n",
    "        lower = [a for a in lst[frm:to] if a < partition]\n",
    "        upper = [a for a in lst[frm:to] if a > partition]\n",
    "\n",
    "        ind1 = frm + len(lower)\n",
    "\n",
    "        # Push back into correct place:\n",
    "        lst[frm:ind1] = lower\n",
    "        lst[ind1] = partition\n",
    "        lst[ind1+1:to] = upper\n",
    "\n",
    "        # Enqueue other locations\n",
    "        indices.append((frm, ind1))\n",
    "        indices.append((ind1+1, to))\n",
    "    return lst\n"
   ]
  },
  {
   "cell_type": "code",
   "execution_count": 45,
   "metadata": {
    "deletable": false,
    "editable": false,
    "nbgrader": {
     "checksum": "9d457eff304d19e031a8eabb4615ca3b",
     "grade": true,
     "grade_id": "cell-97473a9e0d12e745",
     "locked": true,
     "points": 1,
     "schema_version": 1,
     "solution": false
    }
   },
   "outputs": [],
   "source": [
    "assert(qsort([4,2,1])==[1,2,4])\n",
    "assert(qsort([0])==[0])"
   ]
  },
  {
   "cell_type": "markdown",
   "metadata": {
    "deletable": false,
    "editable": false,
    "nbgrader": {
     "checksum": "8f0166e7d0021886bb7176f35011a633",
     "grade": false,
     "grade_id": "cell-2ca71dd53b31262b",
     "locked": true,
     "schema_version": 1,
     "solution": false
    }
   },
   "source": [
    "### Question 5b [time estimate: 3 minutes]\n",
    "\n",
    "Does this change the running time of your algorithm? Justify your response with a graph. \n",
    "\n"
   ]
  },
  {
   "cell_type": "code",
   "execution_count": 52,
   "metadata": {
    "deletable": false,
    "nbgrader": {
     "checksum": "bd863db414089f9ead9906b3c2c34a15",
     "grade": true,
     "grade_id": "cell-1f3a6df29d324853",
     "locked": false,
     "points": 0,
     "schema_version": 1,
     "solution": true
    }
   },
   "outputs": [
    {
     "data": {
      "image/png": "[encoded data removed]",
      "text/plain": [
       "<Figure size 432x288 with 1 Axes>"
      ]
     },
     "metadata": {
      "needs_background": "light"
     },
     "output_type": "display_data"
    }
   ],
   "source": [
    "import matplotlib.pyplot as plt\n",
    "import numpy as np\n",
    "\n",
    "x = np.linspace(1,1000)\n",
    "plt.xlabel(\"length of list\")\n",
    "plt.ylabel(\"running time\")\n",
    "\n",
    "y = []\n",
    "for i in x:\n",
    "    N = int(i)\n",
    "    a = timeit.timeit(randomized_quicksort, number = 1)\n",
    "    b = timeit.timeit(randomized_quicksort, number = 1)\n",
    "    c = timeit.timeit(randomized_quicksort, number = 1)\n",
    "    y.append((a+b+c)/3)\n",
    "\n",
    "plt.plot(x, y, label = \"5a_qsort\")\n",
    "plt.plot(x,0.000004*x, label = \"compare line for question 4a\")\n",
    "plt.plot(x, 0.000006*x, label = \"original compare line\")\n",
    "plt.legend()\n",
    "\n",
    "plt.show()"
   ]
  },
  {
   "cell_type": "markdown",
   "metadata": {
    "deletable": false,
    "editable": false,
    "nbgrader": {
     "checksum": "51af6d987694ab6231a6f4aa19f39164",
     "grade": false,
     "grade_id": "cell-67512d1d42af415f",
     "locked": true,
     "schema_version": 1,
     "solution": false
    }
   },
   "source": [
    "## Part B. Recursive quicksort [time estimate: 5 minutes]\n",
    "\n",
    "One main difference between the quicksort algorithms in Cormen et al. and the implementation in the code above is that quick sort (in the code in this notebook) is not recursive, while $QUICKSORT$ in Cormen et al. is. Given the limitation of Python so that it can only make 500 recursive calls, estimate the maximum size of the list that can be sorted by Python if a recursive quicksort is to be used. Explicitly state all assumptions you make in getting to an answer.\n"
   ]
  },
  {
   "cell_type": "markdown",
   "metadata": {
    "deletable": false,
    "nbgrader": {
     "checksum": "7be7bc411376ac8090621f3d68630c10",
     "grade": true,
     "grade_id": "cell-4af5aab4ad1a7225",
     "locked": false,
     "points": 0,
     "schema_version": 1,
     "solution": true
    }
   },
   "source": [
    "To have the maximum size of the list, I need to assume that the quicksort function splits the list into two sublists that are same(can have 1 difference depending on the len(list) = N is even or odd) so that the function does not have to iterate a lot of times. This is because the more the partition becomes close to the median of the whole list(or a sublist), the depth of the level becomes less deeper (least level = log based 2 N, most level = N).\n",
    "So, 500 recursive calls can be made which is used to 'split' the function from the previous PCW. Here, I am assuming that recursive call is only used to split the function, thus the maximum depth of the recursive form can be 500. It means that log(base = 2) x = 500. The x will be 3,273,390,... = about 3.273 * 10^150.\n",
    "As x meant to be the size of the list(input), the maximum size of the list in recursive form is about 3.3 * 10^150 ."
   ]
  }
 ],
 "metadata": {
  "kernelspec": {
   "display_name": "Python 3",
   "language": "python",
   "name": "python3"
  },
  "language_info": {
   "codemirror_mode": {
    "name": "ipython",
    "version": 3
   },
   "file_extension": ".py",
   "mimetype": "text/x-python",
   "name": "python",
   "nbconvert_exporter": "python",
   "pygments_lexer": "ipython3",
   "version": "3.8.3"
  }
 },
 "nbformat": 4,
 "nbformat_minor": 2
}
